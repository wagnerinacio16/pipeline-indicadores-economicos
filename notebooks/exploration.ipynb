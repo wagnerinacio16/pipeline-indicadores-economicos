{
 "cells": [
  {
   "cell_type": "code",
   "execution_count": null,
   "id": "e1c2bf19",
   "metadata": {},
   "outputs": [],
   "source": [
    "import sys\n",
    "import os\n",
    "from pathlib import Path\n",
    "\n",
    "# Caminho absoluto para a raiz do projeto (um nível acima de notebooks)\n",
    "project_root = os.path.abspath(\"..\")\n",
    "if project_root not in sys.path:\n",
    "    sys.path.append(project_root)\n"
   ]
  },
  {
   "cell_type": "code",
   "execution_count": null,
   "id": "6b4bf27d",
   "metadata": {},
   "outputs": [],
   "source": [
    "from config.utils import *\n"
   ]
  },
  {
   "cell_type": "code",
   "execution_count": null,
   "id": "af5265d6",
   "metadata": {},
   "outputs": [],
   "source": [
    "path = os.path.join(PATHS['SILVER_LAYER'],\"cny_brl.parquet\")"
   ]
  },
  {
   "cell_type": "code",
   "execution_count": null,
   "id": "48cf4215",
   "metadata": {},
   "outputs": [],
   "source": [
    "df = pd.read_parquet(path)"
   ]
  },
  {
   "cell_type": "code",
   "execution_count": null,
   "id": "dc5f01f4",
   "metadata": {},
   "outputs": [],
   "source": [
    "path_cny = os.path.join(PATHS['METRICS'],'schemas','cny_brl.yaml')"
   ]
  },
  {
   "cell_type": "code",
   "execution_count": null,
   "id": "30347ce4",
   "metadata": {},
   "outputs": [],
   "source": [
    "SCHEMAS['ipca']"
   ]
  },
  {
   "cell_type": "code",
   "execution_count": null,
   "id": "bc89044a",
   "metadata": {},
   "outputs": [],
   "source": [
    "\n",
    "for nome_indicador, parametros in INDICADORES.items():\n",
    "    fonte = parametros.get('FONTE')\n",
    "\n",
    "    # pyrefly: ignore  # unknown-name\n",
    "    dados = ler_dados_indicadores(nome_indicador=nome_indicador, nome_fonte=fonte)\n",
    "\n",
    "    if dados is not None:\n",
    "        # pyrefly: ignore  # unknown-name\n",
    "        salvar_dados_indicadores(dados=dados, nome_indicador=nome_indicador)\n",
    "    else:\n",
    "        # pyrefly: ignore  # unknown-name\n",
    "        logger.warning(f\"Dados do indicador '{nome_indicador}' não foram carregados.\")\n"
   ]
  },
  {
   "cell_type": "code",
   "execution_count": null,
   "id": "fccdad6b",
   "metadata": {},
   "outputs": [],
   "source": []
  },
  {
   "cell_type": "code",
   "execution_count": null,
   "id": "8fcc31dd",
   "metadata": {},
   "outputs": [],
   "source": [
    "indicador = ler_dados_indicadores_silver('cny_brl')"
   ]
  },
  {
   "cell_type": "code",
   "execution_count": null,
   "id": "b13b654e",
   "metadata": {},
   "outputs": [],
   "source": [
    "import pandera.pandas as pa"
   ]
  },
  {
   "cell_type": "code",
   "execution_count": null,
   "id": "759c510a",
   "metadata": {},
   "outputs": [],
   "source": [
    "schema_path = os.path.join(PATHS['SCHEMAS'],f\"{nome_indicador}.yaml\")\n",
    "pa.DataFrameSchema.from_yaml(schema_path).validate(df_indicador, lazy=True)"
   ]
  },
  {
   "cell_type": "code",
   "execution_count": null,
   "id": "f94455ed",
   "metadata": {},
   "outputs": [],
   "source": []
  },
  {
   "cell_type": "code",
   "execution_count": null,
   "id": "6d4b1c71",
   "metadata": {},
   "outputs": [],
   "source": [
    "validar_schema(indicador,'ipca')"
   ]
  },
  {
   "cell_type": "code",
   "execution_count": null,
   "id": "24bd3291",
   "metadata": {},
   "outputs": [],
   "source": [
    "salvar_dados_indicadores_gold(indicador,\"cny_brl\")"
   ]
  },
  {
   "cell_type": "code",
   "execution_count": null,
   "id": "e5df7d35",
   "metadata": {},
   "outputs": [],
   "source": []
  }
 ],
 "metadata": {
  "kernelspec": {
   "display_name": "Python 3",
   "language": "python",
   "name": "python3"
  },
  "language_info": {
   "codemirror_mode": {
    "name": "ipython",
    "version": 3
   },
   "file_extension": ".py",
   "mimetype": "text/x-python",
   "name": "python",
   "nbconvert_exporter": "python",
   "pygments_lexer": "ipython3",
   "version": "3.12.6"
  }
 },
 "nbformat": 4,
 "nbformat_minor": 5
}
