{
 "cells": [
  {
   "cell_type": "code",
   "execution_count": 1,
   "id": "e1c2bf19",
   "metadata": {},
   "outputs": [],
   "source": [
    "import sys\n",
    "import os\n",
    "from pathlib import Path\n",
    "\n",
    "# Caminho absoluto para a raiz do projeto (um nível acima de notebooks)\n",
    "project_root = os.path.abspath(\"..\")\n",
    "if project_root not in sys.path:\n",
    "    sys.path.append(project_root)\n"
   ]
  },
  {
   "cell_type": "code",
   "execution_count": 2,
   "id": "6b4bf27d",
   "metadata": {},
   "outputs": [],
   "source": [
    "from config.utils import *\n"
   ]
  },
  {
   "cell_type": "code",
   "execution_count": 6,
   "id": "af5265d6",
   "metadata": {},
   "outputs": [],
   "source": [
    "path = os.path.join(PATHS['SILVER_LAYER'],\"cny_brl.parquet\")"
   ]
  },
  {
   "cell_type": "code",
   "execution_count": 7,
   "id": "48cf4215",
   "metadata": {},
   "outputs": [],
   "source": [
    "df = pd.read_parquet(path)"
   ]
  },
  {
   "cell_type": "code",
   "execution_count": 8,
   "id": "dc5f01f4",
   "metadata": {},
   "outputs": [],
   "source": [
    "path_cny = os.path.join(PATHS['METRICS'],'schemas','cny_brl.yaml')"
   ]
  },
  {
   "cell_type": "code",
   "execution_count": 11,
   "id": "30347ce4",
   "metadata": {},
   "outputs": [
    {
     "data": {
      "text/plain": [
       "<Schema DataFrameSchema(columns={'data': <Schema Column(name=data, type=DataType(datetime64[ns]))>, 'ipca': <Schema Column(name=ipca, type=DataType(float64))>}, checks=[], parsers=[], index=None, dtype=None, coerce=False, strict=False, name=IPCA, ordered=False, unique=None, report_duplicates=all, unique_column_names=False, add_missing_columns=False, title=None, description=Índice de Preços ao Consumidor Amplo (IBGE). Série histórica mensal., metadata=None, drop_invalid_rows=False)>"
      ]
     },
     "execution_count": 11,
     "metadata": {},
     "output_type": "execute_result"
    }
   ],
   "source": [
    "SCHEMAS['ipca']"
   ]
  },
  {
   "cell_type": "code",
   "execution_count": null,
   "id": "bc89044a",
   "metadata": {},
   "outputs": [],
   "source": [
    "#Ingestão dos dados na camada silver\n",
    "# pyrefly: ignore  # unknown-name\n",
    "for nome_indicador, parametros in INDICADORES.items():\n",
    "    fonte = parametros.get('FONTE')\n",
    "\n",
    "    # pyrefly: ignore  # unknown-name\n",
    "    dados = ler_dados_indicadores(nome_indicador=nome_indicador, nome_fonte=fonte)\n",
    "\n",
    "    if dados is not None:\n",
    "        # pyrefly: ignore  # unknown-name\n",
    "        salvar_dados_indicadores(dados=dados, nome_indicador=nome_indicador)\n",
    "    else:\n",
    "        # pyrefly: ignore  # unknown-name\n",
    "        logger.warning(f\"Dados do indicador '{nome_indicador}' não foram carregados.\")\n"
   ]
  },
  {
   "cell_type": "code",
   "execution_count": 5,
   "id": "fccdad6b",
   "metadata": {},
   "outputs": [],
   "source": [
    "def ler_dados_indicadores_silver(nome_indicador: str, path: str = PATHS['SILVER_LAYER']) -> pd.DataFrame | None:\n",
    "\n",
    "    \"\"\"\n",
    "    Lê um arquivo Parquet da camada silver e retorna um DataFrame ou None.\n",
    "\n",
    "    Args:\n",
    "        nome_indicador (str): Nome do indicador (ex: 'IPCA').\n",
    "        path (str): Caminho da pasta onde está o Parquet.\n",
    "\n",
    "    Returns:\n",
    "        pd.DataFrame: DataFrame formatado ou None se houver erro.\n",
    "    \"\"\"\n",
    "    \n",
    "    try:\n",
    "        \n",
    "        nome_indicador = nome_indicador.lower()\n",
    "        nome_arquivo: str = f\"{nome_indicador}.parquet\"\n",
    "        path_arquivo = os.path.join(path, nome_arquivo)\n",
    "\n",
    "        logger.info(f\"Lendo arquivo: {path_arquivo}\")\n",
    "\n",
    "        df = pd.read_parquet(path_arquivo)\n",
    "       \n",
    "        return df\n",
    "    except FileNotFoundError:\n",
    "        logger.warning(f\"Arquivo não encontrado: {nome_arquivo}\")\n",
    "    except Exception as e:\n",
    "        logger.error(f\"Erro ao ler {nome_indicador}: {e}\", exc_info=True)\n",
    "    return None"
   ]
  },
  {
   "cell_type": "code",
   "execution_count": 16,
   "id": "8fcc31dd",
   "metadata": {},
   "outputs": [
    {
     "name": "stderr",
     "output_type": "stream",
     "text": [
      "\u001b[32m2025-07-27 02:16:14.407\u001b[0m | \u001b[1mINFO    \u001b[0m | \u001b[36m__main__\u001b[0m:\u001b[36mler_dados_indicadores_silver\u001b[0m:\u001b[36m20\u001b[0m - \u001b[1mLendo arquivo: C:\\Users\\BROliveiWa12\\OneDrive - NESTLE\\Documents\\Estudos\\Engenharia de Dados\\economic-indicators-pipeline\\data/silver\\cny_brl.parquet\u001b[0m\n"
     ]
    }
   ],
   "source": [
    "indicador = ler_dados_indicadores_silver('cny_brl')"
   ]
  },
  {
   "cell_type": "code",
   "execution_count": 12,
   "id": "b13b654e",
   "metadata": {},
   "outputs": [],
   "source": [
    "import pandera.pandas as pa"
   ]
  },
  {
   "cell_type": "code",
   "execution_count": 15,
   "id": "759c510a",
   "metadata": {},
   "outputs": [
    {
     "ename": "NameError",
     "evalue": "name 'nome_indicador' is not defined",
     "output_type": "error",
     "traceback": [
      "\u001b[1;31m---------------------------------------------------------------------------\u001b[0m",
      "\u001b[1;31mNameError\u001b[0m                                 Traceback (most recent call last)",
      "Cell \u001b[1;32mIn[15], line 1\u001b[0m\n\u001b[1;32m----> 1\u001b[0m schema_path \u001b[38;5;241m=\u001b[39m os\u001b[38;5;241m.\u001b[39mpath\u001b[38;5;241m.\u001b[39mjoin(PATHS[\u001b[38;5;124m'\u001b[39m\u001b[38;5;124mSCHEMAS\u001b[39m\u001b[38;5;124m'\u001b[39m],\u001b[38;5;124mf\u001b[39m\u001b[38;5;124m\"\u001b[39m\u001b[38;5;132;01m{\u001b[39;00m\u001b[43mnome_indicador\u001b[49m\u001b[38;5;132;01m}\u001b[39;00m\u001b[38;5;124m.yaml\u001b[39m\u001b[38;5;124m\"\u001b[39m)\n\u001b[0;32m      2\u001b[0m pa\u001b[38;5;241m.\u001b[39mDataFrameSchema\u001b[38;5;241m.\u001b[39mfrom_yaml(schema_path)\u001b[38;5;241m.\u001b[39mvalidate(df_indicador, lazy\u001b[38;5;241m=\u001b[39m\u001b[38;5;28;01mTrue\u001b[39;00m)\n",
      "\u001b[1;31mNameError\u001b[0m: name 'nome_indicador' is not defined"
     ]
    }
   ],
   "source": [
    "schema_path = os.path.join(PATHS['SCHEMAS'],f\"{nome_indicador}.yaml\")\n",
    "pa.DataFrameSchema.from_yaml(schema_path).validate(df_indicador, lazy=True)"
   ]
  },
  {
   "cell_type": "code",
   "execution_count": 22,
   "id": "f94455ed",
   "metadata": {},
   "outputs": [],
   "source": [
    "def validar_schema(df_indicador: pd.DataFrame, nome_indicador: str) -> bool:\n",
    "    \"\"\"\n",
    "    Valida um DataFrame usando um schema Pandera carregado de um arquivo YAML.\n",
    "\n",
    "    Args:\n",
    "        df (pd.DataFrame): DataFrame a ser validado.\n",
    "        nome_indicador (str): Nome do schema (ex: 'ipca', 'usd_brl').\n",
    "    Returns:\n",
    "        bool: True se a validação for bem-sucedida, False caso mal-sucedida.\n",
    "    \"\"\"\n",
    "    try:\n",
    "        schema_path = os.path.join(PATHS['SCHEMAS'],f\"{nome_indicador}.yaml\")\n",
    "        pa.DataFrameSchema.from_yaml(schema_path).validate(df_indicador, lazy=True)\n",
    "        logger.success(f\"Schema '{nome_indicador}' validado!\")\n",
    "        return True\n",
    "    except pa.errors.SchemaErrors as e:\n",
    "        logger.error(f\"Erros de validação no schema '{nome_indicador}':\\n\\n{e.failure_cases}\")\n",
    "    except Exception as e:\n",
    "        logger.error(f\"Erro ao validar '{nome_indicador}': {e}\")\n",
    "    return False"
   ]
  },
  {
   "cell_type": "code",
   "execution_count": 23,
   "id": "6d4b1c71",
   "metadata": {},
   "outputs": [
    {
     "name": "stderr",
     "output_type": "stream",
     "text": [
      "\u001b[32m2025-07-27 02:18:57.117\u001b[0m | \u001b[31m\u001b[1mERROR   \u001b[0m | \u001b[36m__main__\u001b[0m:\u001b[36mvalidar_schema\u001b[0m:\u001b[36m19\u001b[0m - \u001b[31m\u001b[1mErro ao validar 'ipca': Schema representation must be a mapping.\u001b[0m\n"
     ]
    },
    {
     "data": {
      "text/plain": [
       "False"
      ]
     },
     "execution_count": 23,
     "metadata": {},
     "output_type": "execute_result"
    }
   ],
   "source": [
    "validar_schema(indicador,'ipca')"
   ]
  },
  {
   "cell_type": "code",
   "execution_count": null,
   "id": "1edc9da3",
   "metadata": {},
   "outputs": [],
   "source": [
    "def salvar_dados_indicadores_gold(df: pd.DataFrame, nome_indicador: str) -> None:\n",
    "    \"\"\"\n",
    "    Salva um DataFrame na camada Gold no formato Parquet.\n",
    "\n",
    "    Args:\n",
    "        df (pd.DataFrame): DataFrame a ser salvo.\n",
    "        nome_indicador (str): Nome do indicador (chave no dicionário SCHEMAS).\n",
    "    \"\"\"\n",
    "    \n",
    "    try:\n",
    "        df.columns = df.columns.str.upper()\n",
    "        df.sort_values('DATA',ascending=False,inplace=True)\n",
    "        path = os.path.join(PATHS[\"GOLD_LAYER\"],f\"{nome_indicador}.csv\")\n",
    "\n",
    "        df.to_csv(path, index=False)\n",
    "        logger.success(f\"Indicador '{nome_indicador.upper()}' salvo com sucesso: {path}\")\n",
    "        \n",
    "    except Exception as e:\n",
    "        logger.error(f\"Erro ao salvar indicador '{nome_indicador.upper()}' na camada Gold: {e}\")\n",
    "\n"
   ]
  },
  {
   "cell_type": "code",
   "execution_count": null,
   "id": "07aaf4c4",
   "metadata": {},
   "outputs": [],
   "source": [
    "pd.read_parquet()"
   ]
  },
  {
   "cell_type": "code",
   "execution_count": 31,
   "id": "24bd3291",
   "metadata": {},
   "outputs": [
    {
     "name": "stderr",
     "output_type": "stream",
     "text": [
      "\u001b[32m2025-07-27 02:31:14.529\u001b[0m | \u001b[32m\u001b[1mSUCCESS \u001b[0m | \u001b[36m__main__\u001b[0m:\u001b[36msalvar_dados_indicadores_gold\u001b[0m:\u001b[36m17\u001b[0m - \u001b[32m\u001b[1mIndicador 'CNY_BRL' salvo com sucesso: C:\\Users\\BROliveiWa12\\OneDrive - NESTLE\\Documents\\Estudos\\Engenharia de Dados\\economic-indicators-pipeline\\data/gold\\cny_brl.xlsx\u001b[0m\n"
     ]
    }
   ],
   "source": [
    "salvar_dados_indicadores_gold(indicador,\"cny_brl\")"
   ]
  },
  {
   "cell_type": "code",
   "execution_count": 35,
   "id": "5d3b2363",
   "metadata": {},
   "outputs": [
    {
     "ename": "ModuleNotFoundError",
     "evalue": "No module named 'schemas'",
     "output_type": "error",
     "traceback": [
      "\u001b[1;31m---------------------------------------------------------------------------\u001b[0m",
      "\u001b[1;31mModuleNotFoundError\u001b[0m                       Traceback (most recent call last)",
      "Cell \u001b[1;32mIn[35], line 4\u001b[0m\n\u001b[0;32m      2\u001b[0m \u001b[38;5;28;01mimport\u001b[39;00m \u001b[38;5;21;01minspect\u001b[39;00m\n\u001b[0;32m      3\u001b[0m \u001b[38;5;28;01mfrom\u001b[39;00m \u001b[38;5;21;01mpandera\u001b[39;00m \u001b[38;5;28;01mimport\u001b[39;00m DataFrameSchema\n\u001b[1;32m----> 4\u001b[0m \u001b[38;5;28;01mimport\u001b[39;00m \u001b[38;5;21;01mschemas\u001b[39;00m  \u001b[38;5;66;03m# seu módulo com os schemas definidos\u001b[39;00m\n\u001b[0;32m      7\u001b[0m \u001b[38;5;28;01mdef\u001b[39;00m \u001b[38;5;21mexportar_schemas_para_yaml\u001b[39m(output_dir: \u001b[38;5;28mstr\u001b[39m) \u001b[38;5;241m-\u001b[39m\u001b[38;5;241m>\u001b[39m \u001b[38;5;28;01mNone\u001b[39;00m:\n\u001b[0;32m      8\u001b[0m \u001b[38;5;250m    \u001b[39m\u001b[38;5;124;03m\"\"\"\u001b[39;00m\n\u001b[0;32m      9\u001b[0m \u001b[38;5;124;03m    Exporta todos os schemas Pandera definidos no módulo `schemas.py` para arquivos `.yaml`.\u001b[39;00m\n\u001b[0;32m     10\u001b[0m \n\u001b[0;32m     11\u001b[0m \u001b[38;5;124;03m    Args:\u001b[39;00m\n\u001b[0;32m     12\u001b[0m \u001b[38;5;124;03m        output_dir (str): Caminho da pasta onde os arquivos YAML serão salvos.\u001b[39;00m\n\u001b[0;32m     13\u001b[0m \u001b[38;5;124;03m    \"\"\"\u001b[39;00m\n",
      "\u001b[1;31mModuleNotFoundError\u001b[0m: No module named 'schemas'"
     ]
    }
   ],
   "source": [
    "import os\n",
    "import inspect\n",
    "from pandera import DataFrameSchema\n",
    "import schemas  # seu módulo com os schemas definidos\n",
    "\n",
    "\n",
    "def exportar_schemas_para_yaml(output_dir: str) -> None:\n",
    "    \"\"\"\n",
    "    Exporta todos os schemas Pandera definidos no módulo `schemas.py` para arquivos `.yaml`.\n",
    "\n",
    "    Args:\n",
    "        output_dir (str): Caminho da pasta onde os arquivos YAML serão salvos.\n",
    "    \"\"\"\n",
    "    os.makedirs(output_dir, exist_ok=True)\n",
    "\n",
    "    for nome, objeto in inspect.getmembers(schemas):\n",
    "        if isinstance(objeto, DataFrameSchema):\n",
    "            caminho_yaml = os.path.join(output_dir, f\"{nome}.yaml\")\n",
    "\n",
    "            with open(caminho_yaml, \"w\") as f:\n",
    "                f.write(objeto.to_yaml())\n",
    "\n",
    "            print(f\"✅ Schema '{nome}' exportado para {caminho_yaml}\")\n"
   ]
  },
  {
   "cell_type": "code",
   "execution_count": null,
   "id": "91e0d7ed",
   "metadata": {},
   "outputs": [
    {
     "ename": "NameError",
     "evalue": "name 'schemas' is not defined",
     "output_type": "error",
     "traceback": [
      "\u001b[1;31m---------------------------------------------------------------------------\u001b[0m",
      "\u001b[1;31mNameError\u001b[0m                                 Traceback (most recent call last)",
      "Cell \u001b[1;32mIn[34], line 1\u001b[0m\n\u001b[1;32m----> 1\u001b[0m \u001b[38;5;28;01mfor\u001b[39;00m nome, objeto \u001b[38;5;129;01min\u001b[39;00m inspect\u001b[38;5;241m.\u001b[39mgetmembers(\u001b[43mschemas\u001b[49m):\n\u001b[0;32m      2\u001b[0m      \u001b[38;5;28mprint\u001b[39m(nome, objeto)\n",
      "\u001b[1;31mNameError\u001b[0m: name 'schemas' is not defined"
     ]
    }
   ],
   "source": []
  },
  {
   "cell_type": "code",
   "execution_count": 27,
   "id": "a3e81966",
   "metadata": {},
   "outputs": [],
   "source": [
    "with open(path_cny, \"w\") as f:\n",
    "    f.write(schema_cny_brl.to_yaml())"
   ]
  },
  {
   "cell_type": "code",
   "execution_count": 29,
   "id": "04a16b12",
   "metadata": {},
   "outputs": [
    {
     "ename": "SchemaError",
     "evalue": "Column 'data' failed element-wise validator number 0: in_range(2015-07-26 00:00:00, 2025-07-26 00:00:00) failure cases: 2015-07-24 00:00:00",
     "output_type": "error",
     "traceback": [
      "\u001b[1;31m---------------------------------------------------------------------------\u001b[0m",
      "\u001b[1;31mSchemaError\u001b[0m                               Traceback (most recent call last)",
      "Cell \u001b[1;32mIn[29], line 1\u001b[0m\n\u001b[1;32m----> 1\u001b[0m \u001b[43mpa\u001b[49m\u001b[38;5;241;43m.\u001b[39;49m\u001b[43mDataFrameSchema\u001b[49m\u001b[38;5;241;43m.\u001b[39;49m\u001b[43mfrom_yaml\u001b[49m\u001b[43m(\u001b[49m\u001b[43mpath_cny\u001b[49m\u001b[43m)\u001b[49m\u001b[38;5;241;43m.\u001b[39;49m\u001b[43mvalidate\u001b[49m\u001b[43m(\u001b[49m\u001b[43mdf\u001b[49m\u001b[43m)\u001b[49m\n",
      "File \u001b[1;32mc:\\Users\\BROliveiWa12\\AppData\\Local\\Programs\\Python\\Python312\\Lib\\site-packages\\pandera\\api\\pandas\\container.py:118\u001b[0m, in \u001b[0;36mDataFrameSchema.validate\u001b[1;34m(self, check_obj, head, tail, sample, random_state, lazy, inplace)\u001b[0m\n\u001b[0;32m    106\u001b[0m     check_obj \u001b[38;5;241m=\u001b[39m check_obj\u001b[38;5;241m.\u001b[39mmap_partitions(  \u001b[38;5;66;03m# type: ignore [operator]\u001b[39;00m\n\u001b[0;32m    107\u001b[0m         \u001b[38;5;28mself\u001b[39m\u001b[38;5;241m.\u001b[39m_validate,\n\u001b[0;32m    108\u001b[0m         head\u001b[38;5;241m=\u001b[39mhead,\n\u001b[1;32m   (...)\u001b[0m\n\u001b[0;32m    114\u001b[0m         meta\u001b[38;5;241m=\u001b[39mcheck_obj,\n\u001b[0;32m    115\u001b[0m     )\n\u001b[0;32m    116\u001b[0m     \u001b[38;5;28;01mreturn\u001b[39;00m check_obj\u001b[38;5;241m.\u001b[39mpandera\u001b[38;5;241m.\u001b[39madd_schema(\u001b[38;5;28mself\u001b[39m)\n\u001b[1;32m--> 118\u001b[0m \u001b[38;5;28;01mreturn\u001b[39;00m \u001b[38;5;28;43mself\u001b[39;49m\u001b[38;5;241;43m.\u001b[39;49m\u001b[43m_validate\u001b[49m\u001b[43m(\u001b[49m\n\u001b[0;32m    119\u001b[0m \u001b[43m    \u001b[49m\u001b[43mcheck_obj\u001b[49m\u001b[38;5;241;43m=\u001b[39;49m\u001b[43mcheck_obj\u001b[49m\u001b[43m,\u001b[49m\n\u001b[0;32m    120\u001b[0m \u001b[43m    \u001b[49m\u001b[43mhead\u001b[49m\u001b[38;5;241;43m=\u001b[39;49m\u001b[43mhead\u001b[49m\u001b[43m,\u001b[49m\n\u001b[0;32m    121\u001b[0m \u001b[43m    \u001b[49m\u001b[43mtail\u001b[49m\u001b[38;5;241;43m=\u001b[39;49m\u001b[43mtail\u001b[49m\u001b[43m,\u001b[49m\n\u001b[0;32m    122\u001b[0m \u001b[43m    \u001b[49m\u001b[43msample\u001b[49m\u001b[38;5;241;43m=\u001b[39;49m\u001b[43msample\u001b[49m\u001b[43m,\u001b[49m\n\u001b[0;32m    123\u001b[0m \u001b[43m    \u001b[49m\u001b[43mrandom_state\u001b[49m\u001b[38;5;241;43m=\u001b[39;49m\u001b[43mrandom_state\u001b[49m\u001b[43m,\u001b[49m\n\u001b[0;32m    124\u001b[0m \u001b[43m    \u001b[49m\u001b[43mlazy\u001b[49m\u001b[38;5;241;43m=\u001b[39;49m\u001b[43mlazy\u001b[49m\u001b[43m,\u001b[49m\n\u001b[0;32m    125\u001b[0m \u001b[43m    \u001b[49m\u001b[43minplace\u001b[49m\u001b[38;5;241;43m=\u001b[39;49m\u001b[43minplace\u001b[49m\u001b[43m,\u001b[49m\n\u001b[0;32m    126\u001b[0m \u001b[43m\u001b[49m\u001b[43m)\u001b[49m\n",
      "File \u001b[1;32mc:\\Users\\BROliveiWa12\\AppData\\Local\\Programs\\Python\\Python312\\Lib\\site-packages\\pandera\\api\\pandas\\container.py:139\u001b[0m, in \u001b[0;36mDataFrameSchema._validate\u001b[1;34m(self, check_obj, head, tail, sample, random_state, lazy, inplace)\u001b[0m\n\u001b[0;32m    128\u001b[0m \u001b[38;5;28;01mdef\u001b[39;00m \u001b[38;5;21m_validate\u001b[39m(\n\u001b[0;32m    129\u001b[0m     \u001b[38;5;28mself\u001b[39m,\n\u001b[0;32m    130\u001b[0m     check_obj: pd\u001b[38;5;241m.\u001b[39mDataFrame,\n\u001b[1;32m   (...)\u001b[0m\n\u001b[0;32m    136\u001b[0m     inplace: \u001b[38;5;28mbool\u001b[39m \u001b[38;5;241m=\u001b[39m \u001b[38;5;28;01mFalse\u001b[39;00m,\n\u001b[0;32m    137\u001b[0m ) \u001b[38;5;241m-\u001b[39m\u001b[38;5;241m>\u001b[39m pd\u001b[38;5;241m.\u001b[39mDataFrame:\n\u001b[1;32m--> 139\u001b[0m     \u001b[38;5;28;01mreturn\u001b[39;00m \u001b[38;5;28;43mself\u001b[39;49m\u001b[38;5;241;43m.\u001b[39;49m\u001b[43mget_backend\u001b[49m\u001b[43m(\u001b[49m\u001b[43mcheck_obj\u001b[49m\u001b[43m)\u001b[49m\u001b[38;5;241;43m.\u001b[39;49m\u001b[43mvalidate\u001b[49m\u001b[43m(\u001b[49m\n\u001b[0;32m    140\u001b[0m \u001b[43m        \u001b[49m\u001b[43mcheck_obj\u001b[49m\u001b[43m,\u001b[49m\n\u001b[0;32m    141\u001b[0m \u001b[43m        \u001b[49m\u001b[43mschema\u001b[49m\u001b[38;5;241;43m=\u001b[39;49m\u001b[38;5;28;43mself\u001b[39;49m\u001b[43m,\u001b[49m\n\u001b[0;32m    142\u001b[0m \u001b[43m        \u001b[49m\u001b[43mhead\u001b[49m\u001b[38;5;241;43m=\u001b[39;49m\u001b[43mhead\u001b[49m\u001b[43m,\u001b[49m\n\u001b[0;32m    143\u001b[0m \u001b[43m        \u001b[49m\u001b[43mtail\u001b[49m\u001b[38;5;241;43m=\u001b[39;49m\u001b[43mtail\u001b[49m\u001b[43m,\u001b[49m\n\u001b[0;32m    144\u001b[0m \u001b[43m        \u001b[49m\u001b[43msample\u001b[49m\u001b[38;5;241;43m=\u001b[39;49m\u001b[43msample\u001b[49m\u001b[43m,\u001b[49m\n\u001b[0;32m    145\u001b[0m \u001b[43m        \u001b[49m\u001b[43mrandom_state\u001b[49m\u001b[38;5;241;43m=\u001b[39;49m\u001b[43mrandom_state\u001b[49m\u001b[43m,\u001b[49m\n\u001b[0;32m    146\u001b[0m \u001b[43m        \u001b[49m\u001b[43mlazy\u001b[49m\u001b[38;5;241;43m=\u001b[39;49m\u001b[43mlazy\u001b[49m\u001b[43m,\u001b[49m\n\u001b[0;32m    147\u001b[0m \u001b[43m        \u001b[49m\u001b[43minplace\u001b[49m\u001b[38;5;241;43m=\u001b[39;49m\u001b[43minplace\u001b[49m\u001b[43m,\u001b[49m\n\u001b[0;32m    148\u001b[0m \u001b[43m    \u001b[49m\u001b[43m)\u001b[49m\n",
      "File \u001b[1;32mc:\\Users\\BROliveiWa12\\AppData\\Local\\Programs\\Python\\Python312\\Lib\\site-packages\\pandera\\backends\\pandas\\container.py:104\u001b[0m, in \u001b[0;36mDataFrameSchemaBackend.validate\u001b[1;34m(self, check_obj, schema, head, tail, sample, random_state, lazy, inplace)\u001b[0m\n\u001b[0;32m     99\u001b[0m components \u001b[38;5;241m=\u001b[39m \u001b[38;5;28mself\u001b[39m\u001b[38;5;241m.\u001b[39mcollect_schema_components(\n\u001b[0;32m    100\u001b[0m     check_obj, schema, column_info\n\u001b[0;32m    101\u001b[0m )\n\u001b[0;32m    103\u001b[0m \u001b[38;5;66;03m# run the checks\u001b[39;00m\n\u001b[1;32m--> 104\u001b[0m error_handler \u001b[38;5;241m=\u001b[39m \u001b[38;5;28;43mself\u001b[39;49m\u001b[38;5;241;43m.\u001b[39;49m\u001b[43mrun_checks_and_handle_errors\u001b[49m\u001b[43m(\u001b[49m\n\u001b[0;32m    105\u001b[0m \u001b[43m    \u001b[49m\u001b[43merror_handler\u001b[49m\u001b[43m,\u001b[49m\n\u001b[0;32m    106\u001b[0m \u001b[43m    \u001b[49m\u001b[43mschema\u001b[49m\u001b[43m,\u001b[49m\n\u001b[0;32m    107\u001b[0m \u001b[43m    \u001b[49m\u001b[43mcheck_obj\u001b[49m\u001b[43m,\u001b[49m\n\u001b[0;32m    108\u001b[0m \u001b[43m    \u001b[49m\u001b[43mcolumn_info\u001b[49m\u001b[43m,\u001b[49m\n\u001b[0;32m    109\u001b[0m \u001b[43m    \u001b[49m\u001b[43msample\u001b[49m\u001b[43m,\u001b[49m\n\u001b[0;32m    110\u001b[0m \u001b[43m    \u001b[49m\u001b[43mcomponents\u001b[49m\u001b[43m,\u001b[49m\n\u001b[0;32m    111\u001b[0m \u001b[43m    \u001b[49m\u001b[43mlazy\u001b[49m\u001b[43m,\u001b[49m\n\u001b[0;32m    112\u001b[0m \u001b[43m    \u001b[49m\u001b[43mhead\u001b[49m\u001b[43m,\u001b[49m\n\u001b[0;32m    113\u001b[0m \u001b[43m    \u001b[49m\u001b[43mtail\u001b[49m\u001b[43m,\u001b[49m\n\u001b[0;32m    114\u001b[0m \u001b[43m    \u001b[49m\u001b[43mrandom_state\u001b[49m\u001b[43m,\u001b[49m\n\u001b[0;32m    115\u001b[0m \u001b[43m\u001b[49m\u001b[43m)\u001b[49m\n\u001b[0;32m    117\u001b[0m \u001b[38;5;28;01mif\u001b[39;00m error_handler\u001b[38;5;241m.\u001b[39mcollected_errors:\n\u001b[0;32m    118\u001b[0m     \u001b[38;5;28;01mif\u001b[39;00m \u001b[38;5;28mgetattr\u001b[39m(schema, \u001b[38;5;124m\"\u001b[39m\u001b[38;5;124mdrop_invalid_rows\u001b[39m\u001b[38;5;124m\"\u001b[39m, \u001b[38;5;28;01mFalse\u001b[39;00m):\n\u001b[0;32m    119\u001b[0m         \u001b[38;5;66;03m# if the failure cases are a string, it means the error is\u001b[39;00m\n\u001b[0;32m    120\u001b[0m         \u001b[38;5;66;03m# a schema-level error.\u001b[39;00m\n",
      "File \u001b[1;32mc:\\Users\\BROliveiWa12\\AppData\\Local\\Programs\\Python\\Python312\\Lib\\site-packages\\pandera\\backends\\pandas\\container.py:192\u001b[0m, in \u001b[0;36mDataFrameSchemaBackend.run_checks_and_handle_errors\u001b[1;34m(self, error_handler, schema, check_obj, column_info, sample, components, lazy, head, tail, random_state)\u001b[0m\n\u001b[0;32m    181\u001b[0m         \u001b[38;5;28;01melse\u001b[39;00m:\n\u001b[0;32m    182\u001b[0m             error \u001b[38;5;241m=\u001b[39m SchemaError(\n\u001b[0;32m    183\u001b[0m                 schema,\n\u001b[0;32m    184\u001b[0m                 data\u001b[38;5;241m=\u001b[39mcheck_obj,\n\u001b[1;32m   (...)\u001b[0m\n\u001b[0;32m    190\u001b[0m                 reason_code\u001b[38;5;241m=\u001b[39mresult\u001b[38;5;241m.\u001b[39mreason_code,\n\u001b[0;32m    191\u001b[0m             )\n\u001b[1;32m--> 192\u001b[0m         \u001b[43merror_handler\u001b[49m\u001b[38;5;241;43m.\u001b[39;49m\u001b[43mcollect_error\u001b[49m\u001b[43m(\u001b[49m\n\u001b[0;32m    193\u001b[0m \u001b[43m            \u001b[49m\u001b[43mvalidation_type\u001b[49m\u001b[43m(\u001b[49m\u001b[43mresult\u001b[49m\u001b[38;5;241;43m.\u001b[39;49m\u001b[43mreason_code\u001b[49m\u001b[43m)\u001b[49m\u001b[43m,\u001b[49m\n\u001b[0;32m    194\u001b[0m \u001b[43m            \u001b[49m\u001b[43mresult\u001b[49m\u001b[38;5;241;43m.\u001b[39;49m\u001b[43mreason_code\u001b[49m\u001b[43m,\u001b[49m\n\u001b[0;32m    195\u001b[0m \u001b[43m            \u001b[49m\u001b[43merror\u001b[49m\u001b[43m,\u001b[49m\n\u001b[0;32m    196\u001b[0m \u001b[43m            \u001b[49m\u001b[43mresult\u001b[49m\u001b[38;5;241;43m.\u001b[39;49m\u001b[43moriginal_exc\u001b[49m\u001b[43m,\u001b[49m\n\u001b[0;32m    197\u001b[0m \u001b[43m        \u001b[49m\u001b[43m)\u001b[49m\n\u001b[0;32m    199\u001b[0m \u001b[38;5;28;01mreturn\u001b[39;00m error_handler\n",
      "File \u001b[1;32mc:\\Users\\BROliveiWa12\\AppData\\Local\\Programs\\Python\\Python312\\Lib\\site-packages\\pandera\\api\\base\\error_handler.py:54\u001b[0m, in \u001b[0;36mErrorHandler.collect_error\u001b[1;34m(self, error_type, reason_code, schema_error, original_exc)\u001b[0m\n\u001b[0;32m     47\u001b[0m \u001b[38;5;250m\u001b[39m\u001b[38;5;124;03m\"\"\"Collect schema error, raising exception if lazy is False.\u001b[39;00m\n\u001b[0;32m     48\u001b[0m \n\u001b[0;32m     49\u001b[0m \u001b[38;5;124;03m:param error_type: type of error\u001b[39;00m\n\u001b[0;32m     50\u001b[0m \u001b[38;5;124;03m:param reason_code: string representing reason for error\u001b[39;00m\n\u001b[0;32m     51\u001b[0m \u001b[38;5;124;03m:param schema_error: ``SchemaError`` object.\u001b[39;00m\n\u001b[0;32m     52\u001b[0m \u001b[38;5;124;03m\"\"\"\u001b[39;00m\n\u001b[0;32m     53\u001b[0m \u001b[38;5;28;01mif\u001b[39;00m \u001b[38;5;129;01mnot\u001b[39;00m \u001b[38;5;28mself\u001b[39m\u001b[38;5;241m.\u001b[39m_lazy:\n\u001b[1;32m---> 54\u001b[0m     \u001b[38;5;28;01mraise\u001b[39;00m schema_error \u001b[38;5;28;01mfrom\u001b[39;00m \u001b[38;5;21;01moriginal_exc\u001b[39;00m\n\u001b[0;32m     56\u001b[0m \u001b[38;5;66;03m# delete data of validated object from SchemaError object to prevent\u001b[39;00m\n\u001b[0;32m     57\u001b[0m \u001b[38;5;66;03m# storing copies of the validated DataFrame/Series for every\u001b[39;00m\n\u001b[0;32m     58\u001b[0m \u001b[38;5;66;03m# SchemaError collected.\u001b[39;00m\n\u001b[0;32m     59\u001b[0m \u001b[38;5;28;01mif\u001b[39;00m \u001b[38;5;28mhasattr\u001b[39m(schema_error, \u001b[38;5;124m\"\u001b[39m\u001b[38;5;124mdata\u001b[39m\u001b[38;5;124m\"\u001b[39m):\n",
      "File \u001b[1;32mc:\\Users\\BROliveiWa12\\AppData\\Local\\Programs\\Python\\Python312\\Lib\\site-packages\\pandera\\backends\\pandas\\container.py:227\u001b[0m, in \u001b[0;36mDataFrameSchemaBackend.run_schema_component_checks\u001b[1;34m(self, check_obj, schema, schema_components, lazy)\u001b[0m\n\u001b[0;32m    223\u001b[0m     \u001b[38;5;66;03m# disable coercion at the schema component level since the\u001b[39;00m\n\u001b[0;32m    224\u001b[0m     \u001b[38;5;66;03m# dataframe-level schema already coerced it.\u001b[39;00m\n\u001b[0;32m    225\u001b[0m     schema_component\u001b[38;5;241m.\u001b[39mcoerce \u001b[38;5;241m=\u001b[39m \u001b[38;5;28;01mFalse\u001b[39;00m  \u001b[38;5;66;03m# type: ignore\u001b[39;00m\n\u001b[1;32m--> 227\u001b[0m     result \u001b[38;5;241m=\u001b[39m \u001b[43mschema_component\u001b[49m\u001b[38;5;241;43m.\u001b[39;49m\u001b[43mvalidate\u001b[49m\u001b[43m(\u001b[49m\n\u001b[0;32m    228\u001b[0m \u001b[43m        \u001b[49m\u001b[43mcheck_obj\u001b[49m\u001b[43m,\u001b[49m\u001b[43m \u001b[49m\u001b[43mlazy\u001b[49m\u001b[38;5;241;43m=\u001b[39;49m\u001b[43mlazy\u001b[49m\u001b[43m,\u001b[49m\u001b[43m \u001b[49m\u001b[43minplace\u001b[49m\u001b[38;5;241;43m=\u001b[39;49m\u001b[38;5;28;43;01mTrue\u001b[39;49;00m\n\u001b[0;32m    229\u001b[0m \u001b[43m    \u001b[49m\u001b[43m)\u001b[49m\n\u001b[0;32m    231\u001b[0m     check_passed\u001b[38;5;241m.\u001b[39mappend(is_table(result))\n\u001b[0;32m    232\u001b[0m \u001b[38;5;28;01mexcept\u001b[39;00m SchemaError \u001b[38;5;28;01mas\u001b[39;00m err:\n",
      "File \u001b[1;32mc:\\Users\\BROliveiWa12\\AppData\\Local\\Programs\\Python\\Python312\\Lib\\site-packages\\pandera\\api\\dataframe\\components.py:149\u001b[0m, in \u001b[0;36mComponentSchema.validate\u001b[1;34m(self, check_obj, head, tail, sample, random_state, lazy, inplace)\u001b[0m\n\u001b[0;32m    120\u001b[0m \u001b[38;5;28;01mdef\u001b[39;00m \u001b[38;5;21mvalidate\u001b[39m(\n\u001b[0;32m    121\u001b[0m     \u001b[38;5;28mself\u001b[39m,\n\u001b[0;32m    122\u001b[0m     check_obj,\n\u001b[1;32m   (...)\u001b[0m\n\u001b[0;32m    129\u001b[0m ):\n\u001b[0;32m    130\u001b[0m     \u001b[38;5;66;03m# pylint: disable=too-many-locals,too-many-branches,too-many-statements\u001b[39;00m\n\u001b[0;32m    131\u001b[0m \u001b[38;5;250m    \u001b[39m\u001b[38;5;124;03m\"\"\"Validate a series or specific column in dataframe.\u001b[39;00m\n\u001b[0;32m    132\u001b[0m \n\u001b[0;32m    133\u001b[0m \u001b[38;5;124;03m    :check_obj: data object to validate.\u001b[39;00m\n\u001b[1;32m   (...)\u001b[0m\n\u001b[0;32m    147\u001b[0m \n\u001b[0;32m    148\u001b[0m \u001b[38;5;124;03m    \"\"\"\u001b[39;00m\n\u001b[1;32m--> 149\u001b[0m     \u001b[38;5;28;01mreturn\u001b[39;00m \u001b[38;5;28;43mself\u001b[39;49m\u001b[38;5;241;43m.\u001b[39;49m\u001b[43mget_backend\u001b[49m\u001b[43m(\u001b[49m\u001b[43mcheck_obj\u001b[49m\u001b[43m)\u001b[49m\u001b[38;5;241;43m.\u001b[39;49m\u001b[43mvalidate\u001b[49m\u001b[43m(\u001b[49m\n\u001b[0;32m    150\u001b[0m \u001b[43m        \u001b[49m\u001b[43mcheck_obj\u001b[49m\u001b[43m,\u001b[49m\n\u001b[0;32m    151\u001b[0m \u001b[43m        \u001b[49m\u001b[43mschema\u001b[49m\u001b[38;5;241;43m=\u001b[39;49m\u001b[38;5;28;43mself\u001b[39;49m\u001b[43m,\u001b[49m\n\u001b[0;32m    152\u001b[0m \u001b[43m        \u001b[49m\u001b[43mhead\u001b[49m\u001b[38;5;241;43m=\u001b[39;49m\u001b[43mhead\u001b[49m\u001b[43m,\u001b[49m\n\u001b[0;32m    153\u001b[0m \u001b[43m        \u001b[49m\u001b[43mtail\u001b[49m\u001b[38;5;241;43m=\u001b[39;49m\u001b[43mtail\u001b[49m\u001b[43m,\u001b[49m\n\u001b[0;32m    154\u001b[0m \u001b[43m        \u001b[49m\u001b[43msample\u001b[49m\u001b[38;5;241;43m=\u001b[39;49m\u001b[43msample\u001b[49m\u001b[43m,\u001b[49m\n\u001b[0;32m    155\u001b[0m \u001b[43m        \u001b[49m\u001b[43mrandom_state\u001b[49m\u001b[38;5;241;43m=\u001b[39;49m\u001b[43mrandom_state\u001b[49m\u001b[43m,\u001b[49m\n\u001b[0;32m    156\u001b[0m \u001b[43m        \u001b[49m\u001b[43mlazy\u001b[49m\u001b[38;5;241;43m=\u001b[39;49m\u001b[43mlazy\u001b[49m\u001b[43m,\u001b[49m\n\u001b[0;32m    157\u001b[0m \u001b[43m        \u001b[49m\u001b[43minplace\u001b[49m\u001b[38;5;241;43m=\u001b[39;49m\u001b[43minplace\u001b[49m\u001b[43m,\u001b[49m\n\u001b[0;32m    158\u001b[0m \u001b[43m    \u001b[49m\u001b[43m)\u001b[49m\n",
      "File \u001b[1;32mc:\\Users\\BROliveiWa12\\AppData\\Local\\Programs\\Python\\Python312\\Lib\\site-packages\\pandera\\backends\\pandas\\components.py:142\u001b[0m, in \u001b[0;36mColumnBackend.validate\u001b[1;34m(self, check_obj, schema, head, tail, sample, random_state, lazy, inplace)\u001b[0m\n\u001b[0;32m    136\u001b[0m \u001b[38;5;28;01mif\u001b[39;00m \u001b[38;5;28mgetattr\u001b[39m(schema, \u001b[38;5;124m\"\u001b[39m\u001b[38;5;124mdrop_invalid_rows\u001b[39m\u001b[38;5;124m\"\u001b[39m, \u001b[38;5;28;01mFalse\u001b[39;00m):\n\u001b[0;32m    137\u001b[0m     \u001b[38;5;66;03m# replace the check_obj with the validated\u001b[39;00m\n\u001b[0;32m    138\u001b[0m     check_obj \u001b[38;5;241m=\u001b[39m validate_column(\n\u001b[0;32m    139\u001b[0m         check_obj, column_name, return_check_obj\u001b[38;5;241m=\u001b[39m\u001b[38;5;28;01mTrue\u001b[39;00m\n\u001b[0;32m    140\u001b[0m     )\n\u001b[1;32m--> 142\u001b[0m validated_column \u001b[38;5;241m=\u001b[39m \u001b[43mvalidate_column\u001b[49m\u001b[43m(\u001b[49m\n\u001b[0;32m    143\u001b[0m \u001b[43m    \u001b[49m\u001b[43mcheck_obj\u001b[49m\u001b[43m,\u001b[49m\n\u001b[0;32m    144\u001b[0m \u001b[43m    \u001b[49m\u001b[43mcolumn_name\u001b[49m\u001b[43m,\u001b[49m\n\u001b[0;32m    145\u001b[0m \u001b[43m    \u001b[49m\u001b[43mreturn_check_obj\u001b[49m\u001b[38;5;241;43m=\u001b[39;49m\u001b[38;5;28;43;01mTrue\u001b[39;49;00m\u001b[43m,\u001b[49m\n\u001b[0;32m    146\u001b[0m \u001b[43m\u001b[49m\u001b[43m)\u001b[49m\n\u001b[0;32m    147\u001b[0m \u001b[38;5;28;01mif\u001b[39;00m schema\u001b[38;5;241m.\u001b[39mparsers:\n\u001b[0;32m    148\u001b[0m     check_obj[column_name] \u001b[38;5;241m=\u001b[39m validated_column\n",
      "File \u001b[1;32mc:\\Users\\BROliveiWa12\\AppData\\Local\\Programs\\Python\\Python312\\Lib\\site-packages\\pandera\\backends\\pandas\\components.py:102\u001b[0m, in \u001b[0;36mColumnBackend.validate.<locals>.validate_column\u001b[1;34m(check_obj, column_name, return_check_obj)\u001b[0m\n\u001b[0;32m    100\u001b[0m \u001b[38;5;28;01mexcept\u001b[39;00m SchemaError \u001b[38;5;28;01mas\u001b[39;00m err:\n\u001b[0;32m    101\u001b[0m     err\u001b[38;5;241m.\u001b[39mcolumn_name \u001b[38;5;241m=\u001b[39m column_name\n\u001b[1;32m--> 102\u001b[0m     \u001b[43merror_handler\u001b[49m\u001b[38;5;241;43m.\u001b[39;49m\u001b[43mcollect_error\u001b[49m\u001b[43m(\u001b[49m\n\u001b[0;32m    103\u001b[0m \u001b[43m        \u001b[49m\u001b[43mvalidation_type\u001b[49m\u001b[43m(\u001b[49m\u001b[43merr\u001b[49m\u001b[38;5;241;43m.\u001b[39;49m\u001b[43mreason_code\u001b[49m\u001b[43m)\u001b[49m\u001b[43m,\u001b[49m\u001b[43m \u001b[49m\u001b[43merr\u001b[49m\u001b[38;5;241;43m.\u001b[39;49m\u001b[43mreason_code\u001b[49m\u001b[43m,\u001b[49m\u001b[43m \u001b[49m\u001b[43merr\u001b[49m\n\u001b[0;32m    104\u001b[0m \u001b[43m    \u001b[49m\u001b[43m)\u001b[49m\n",
      "File \u001b[1;32mc:\\Users\\BROliveiWa12\\AppData\\Local\\Programs\\Python\\Python312\\Lib\\site-packages\\pandera\\api\\base\\error_handler.py:54\u001b[0m, in \u001b[0;36mErrorHandler.collect_error\u001b[1;34m(self, error_type, reason_code, schema_error, original_exc)\u001b[0m\n\u001b[0;32m     47\u001b[0m \u001b[38;5;250m\u001b[39m\u001b[38;5;124;03m\"\"\"Collect schema error, raising exception if lazy is False.\u001b[39;00m\n\u001b[0;32m     48\u001b[0m \n\u001b[0;32m     49\u001b[0m \u001b[38;5;124;03m:param error_type: type of error\u001b[39;00m\n\u001b[0;32m     50\u001b[0m \u001b[38;5;124;03m:param reason_code: string representing reason for error\u001b[39;00m\n\u001b[0;32m     51\u001b[0m \u001b[38;5;124;03m:param schema_error: ``SchemaError`` object.\u001b[39;00m\n\u001b[0;32m     52\u001b[0m \u001b[38;5;124;03m\"\"\"\u001b[39;00m\n\u001b[0;32m     53\u001b[0m \u001b[38;5;28;01mif\u001b[39;00m \u001b[38;5;129;01mnot\u001b[39;00m \u001b[38;5;28mself\u001b[39m\u001b[38;5;241m.\u001b[39m_lazy:\n\u001b[1;32m---> 54\u001b[0m     \u001b[38;5;28;01mraise\u001b[39;00m schema_error \u001b[38;5;28;01mfrom\u001b[39;00m \u001b[38;5;21;01moriginal_exc\u001b[39;00m\n\u001b[0;32m     56\u001b[0m \u001b[38;5;66;03m# delete data of validated object from SchemaError object to prevent\u001b[39;00m\n\u001b[0;32m     57\u001b[0m \u001b[38;5;66;03m# storing copies of the validated DataFrame/Series for every\u001b[39;00m\n\u001b[0;32m     58\u001b[0m \u001b[38;5;66;03m# SchemaError collected.\u001b[39;00m\n\u001b[0;32m     59\u001b[0m \u001b[38;5;28;01mif\u001b[39;00m \u001b[38;5;28mhasattr\u001b[39m(schema_error, \u001b[38;5;124m\"\u001b[39m\u001b[38;5;124mdata\u001b[39m\u001b[38;5;124m\"\u001b[39m):\n",
      "File \u001b[1;32mc:\\Users\\BROliveiWa12\\AppData\\Local\\Programs\\Python\\Python312\\Lib\\site-packages\\pandera\\backends\\pandas\\components.py:78\u001b[0m, in \u001b[0;36mColumnBackend.validate.<locals>.validate_column\u001b[1;34m(check_obj, column_name, return_check_obj)\u001b[0m\n\u001b[0;32m     73\u001b[0m \u001b[38;5;28;01mtry\u001b[39;00m:\n\u001b[0;32m     74\u001b[0m     \u001b[38;5;66;03m# pylint: disable=super-with-arguments\u001b[39;00m\n\u001b[0;32m     75\u001b[0m     \u001b[38;5;66;03m# make sure the schema component mutations are reverted after\u001b[39;00m\n\u001b[0;32m     76\u001b[0m     \u001b[38;5;66;03m# validation\u001b[39;00m\n\u001b[0;32m     77\u001b[0m     _orig_name \u001b[38;5;241m=\u001b[39m schema\u001b[38;5;241m.\u001b[39mname\n\u001b[1;32m---> 78\u001b[0m     validated_check_obj \u001b[38;5;241m=\u001b[39m \u001b[38;5;28;43msuper\u001b[39;49m\u001b[43m(\u001b[49m\u001b[43mColumnBackend\u001b[49m\u001b[43m,\u001b[49m\u001b[43m \u001b[49m\u001b[38;5;28;43mself\u001b[39;49m\u001b[43m)\u001b[49m\u001b[38;5;241;43m.\u001b[39;49m\u001b[43mvalidate\u001b[49m\u001b[43m(\u001b[49m\n\u001b[0;32m     79\u001b[0m \u001b[43m        \u001b[49m\u001b[43mcheck_obj\u001b[49m\u001b[43m,\u001b[49m\n\u001b[0;32m     80\u001b[0m \u001b[43m        \u001b[49m\u001b[43mschema\u001b[49m\u001b[38;5;241;43m.\u001b[39;49m\u001b[43mset_name\u001b[49m\u001b[43m(\u001b[49m\u001b[43mcolumn_name\u001b[49m\u001b[43m)\u001b[49m\u001b[43m,\u001b[49m\n\u001b[0;32m     81\u001b[0m \u001b[43m        \u001b[49m\u001b[43mhead\u001b[49m\u001b[38;5;241;43m=\u001b[39;49m\u001b[43mhead\u001b[49m\u001b[43m,\u001b[49m\n\u001b[0;32m     82\u001b[0m \u001b[43m        \u001b[49m\u001b[43mtail\u001b[49m\u001b[38;5;241;43m=\u001b[39;49m\u001b[43mtail\u001b[49m\u001b[43m,\u001b[49m\n\u001b[0;32m     83\u001b[0m \u001b[43m        \u001b[49m\u001b[43msample\u001b[49m\u001b[38;5;241;43m=\u001b[39;49m\u001b[43msample\u001b[49m\u001b[43m,\u001b[49m\n\u001b[0;32m     84\u001b[0m \u001b[43m        \u001b[49m\u001b[43mrandom_state\u001b[49m\u001b[38;5;241;43m=\u001b[39;49m\u001b[43mrandom_state\u001b[49m\u001b[43m,\u001b[49m\n\u001b[0;32m     85\u001b[0m \u001b[43m        \u001b[49m\u001b[43mlazy\u001b[49m\u001b[38;5;241;43m=\u001b[39;49m\u001b[43mlazy\u001b[49m\u001b[43m,\u001b[49m\n\u001b[0;32m     86\u001b[0m \u001b[43m        \u001b[49m\u001b[43minplace\u001b[49m\u001b[38;5;241;43m=\u001b[39;49m\u001b[43minplace\u001b[49m\u001b[43m,\u001b[49m\n\u001b[0;32m     87\u001b[0m \u001b[43m    \u001b[49m\u001b[43m)\u001b[49m\n\u001b[0;32m     88\u001b[0m     \u001b[38;5;66;03m# revert the schema component mutations\u001b[39;00m\n\u001b[0;32m     89\u001b[0m     schema\u001b[38;5;241m.\u001b[39mname \u001b[38;5;241m=\u001b[39m _orig_name\n",
      "File \u001b[1;32mc:\\Users\\BROliveiWa12\\AppData\\Local\\Programs\\Python\\Python312\\Lib\\site-packages\\pandera\\backends\\pandas\\array.py:74\u001b[0m, in \u001b[0;36mArraySchemaBackend.validate\u001b[1;34m(self, check_obj, schema, head, tail, sample, random_state, lazy, inplace)\u001b[0m\n\u001b[0;32m     67\u001b[0m     error_handler\u001b[38;5;241m.\u001b[39mcollect_error(\n\u001b[0;32m     68\u001b[0m         validation_type(exc\u001b[38;5;241m.\u001b[39mreason_code),\n\u001b[0;32m     69\u001b[0m         exc\u001b[38;5;241m.\u001b[39mreason_code,\n\u001b[0;32m     70\u001b[0m         exc,\n\u001b[0;32m     71\u001b[0m     )\n\u001b[0;32m     73\u001b[0m \u001b[38;5;66;03m# run the core checks\u001b[39;00m\n\u001b[1;32m---> 74\u001b[0m error_handler \u001b[38;5;241m=\u001b[39m \u001b[38;5;28;43mself\u001b[39;49m\u001b[38;5;241;43m.\u001b[39;49m\u001b[43mrun_checks_and_handle_errors\u001b[49m\u001b[43m(\u001b[49m\n\u001b[0;32m     75\u001b[0m \u001b[43m    \u001b[49m\u001b[43merror_handler\u001b[49m\u001b[43m,\u001b[49m\n\u001b[0;32m     76\u001b[0m \u001b[43m    \u001b[49m\u001b[43mschema\u001b[49m\u001b[43m,\u001b[49m\n\u001b[0;32m     77\u001b[0m \u001b[43m    \u001b[49m\u001b[43mcheck_obj\u001b[49m\u001b[43m,\u001b[49m\n\u001b[0;32m     78\u001b[0m \u001b[43m    \u001b[49m\u001b[43mhead\u001b[49m\u001b[38;5;241;43m=\u001b[39;49m\u001b[43mhead\u001b[49m\u001b[43m,\u001b[49m\n\u001b[0;32m     79\u001b[0m \u001b[43m    \u001b[49m\u001b[43mtail\u001b[49m\u001b[38;5;241;43m=\u001b[39;49m\u001b[43mtail\u001b[49m\u001b[43m,\u001b[49m\n\u001b[0;32m     80\u001b[0m \u001b[43m    \u001b[49m\u001b[43msample\u001b[49m\u001b[38;5;241;43m=\u001b[39;49m\u001b[43msample\u001b[49m\u001b[43m,\u001b[49m\n\u001b[0;32m     81\u001b[0m \u001b[43m    \u001b[49m\u001b[43mrandom_state\u001b[49m\u001b[38;5;241;43m=\u001b[39;49m\u001b[43mrandom_state\u001b[49m\u001b[43m,\u001b[49m\n\u001b[0;32m     82\u001b[0m \u001b[43m\u001b[49m\u001b[43m)\u001b[49m\n\u001b[0;32m     84\u001b[0m \u001b[38;5;28;01mif\u001b[39;00m lazy \u001b[38;5;129;01mand\u001b[39;00m error_handler\u001b[38;5;241m.\u001b[39mcollected_errors:\n\u001b[0;32m     85\u001b[0m     \u001b[38;5;28;01mif\u001b[39;00m \u001b[38;5;28mgetattr\u001b[39m(schema, \u001b[38;5;124m\"\u001b[39m\u001b[38;5;124mdrop_invalid_rows\u001b[39m\u001b[38;5;124m\"\u001b[39m, \u001b[38;5;28;01mFalse\u001b[39;00m):\n",
      "File \u001b[1;32mc:\\Users\\BROliveiWa12\\AppData\\Local\\Programs\\Python\\Python312\\Lib\\site-packages\\pandera\\backends\\pandas\\array.py:138\u001b[0m, in \u001b[0;36mArraySchemaBackend.run_checks_and_handle_errors\u001b[1;34m(self, error_handler, schema, check_obj, **subsample_kwargs)\u001b[0m\n\u001b[0;32m    127\u001b[0m         \u001b[38;5;28;01melse\u001b[39;00m:\n\u001b[0;32m    128\u001b[0m             error \u001b[38;5;241m=\u001b[39m SchemaError(\n\u001b[0;32m    129\u001b[0m                 schema\u001b[38;5;241m=\u001b[39mschema,\n\u001b[0;32m    130\u001b[0m                 data\u001b[38;5;241m=\u001b[39mcheck_obj,\n\u001b[1;32m   (...)\u001b[0m\n\u001b[0;32m    136\u001b[0m                 reason_code\u001b[38;5;241m=\u001b[39mresult\u001b[38;5;241m.\u001b[39mreason_code,\n\u001b[0;32m    137\u001b[0m             )\n\u001b[1;32m--> 138\u001b[0m             \u001b[43merror_handler\u001b[49m\u001b[38;5;241;43m.\u001b[39;49m\u001b[43mcollect_error\u001b[49m\u001b[43m(\u001b[49m\n\u001b[0;32m    139\u001b[0m \u001b[43m                \u001b[49m\u001b[43mvalidation_type\u001b[49m\u001b[43m(\u001b[49m\u001b[43mresult\u001b[49m\u001b[38;5;241;43m.\u001b[39;49m\u001b[43mreason_code\u001b[49m\u001b[43m)\u001b[49m\u001b[43m,\u001b[49m\n\u001b[0;32m    140\u001b[0m \u001b[43m                \u001b[49m\u001b[43mresult\u001b[49m\u001b[38;5;241;43m.\u001b[39;49m\u001b[43mreason_code\u001b[49m\u001b[43m,\u001b[49m\n\u001b[0;32m    141\u001b[0m \u001b[43m                \u001b[49m\u001b[43merror\u001b[49m\u001b[43m,\u001b[49m\n\u001b[0;32m    142\u001b[0m \u001b[43m                \u001b[49m\u001b[43moriginal_exc\u001b[49m\u001b[38;5;241;43m=\u001b[39;49m\u001b[43mresult\u001b[49m\u001b[38;5;241;43m.\u001b[39;49m\u001b[43moriginal_exc\u001b[49m\u001b[43m,\u001b[49m\n\u001b[0;32m    143\u001b[0m \u001b[43m            \u001b[49m\u001b[43m)\u001b[49m\n\u001b[0;32m    145\u001b[0m \u001b[38;5;28;01mreturn\u001b[39;00m error_handler\n",
      "File \u001b[1;32mc:\\Users\\BROliveiWa12\\AppData\\Local\\Programs\\Python\\Python312\\Lib\\site-packages\\pandera\\api\\base\\error_handler.py:54\u001b[0m, in \u001b[0;36mErrorHandler.collect_error\u001b[1;34m(self, error_type, reason_code, schema_error, original_exc)\u001b[0m\n\u001b[0;32m     47\u001b[0m \u001b[38;5;250m\u001b[39m\u001b[38;5;124;03m\"\"\"Collect schema error, raising exception if lazy is False.\u001b[39;00m\n\u001b[0;32m     48\u001b[0m \n\u001b[0;32m     49\u001b[0m \u001b[38;5;124;03m:param error_type: type of error\u001b[39;00m\n\u001b[0;32m     50\u001b[0m \u001b[38;5;124;03m:param reason_code: string representing reason for error\u001b[39;00m\n\u001b[0;32m     51\u001b[0m \u001b[38;5;124;03m:param schema_error: ``SchemaError`` object.\u001b[39;00m\n\u001b[0;32m     52\u001b[0m \u001b[38;5;124;03m\"\"\"\u001b[39;00m\n\u001b[0;32m     53\u001b[0m \u001b[38;5;28;01mif\u001b[39;00m \u001b[38;5;129;01mnot\u001b[39;00m \u001b[38;5;28mself\u001b[39m\u001b[38;5;241m.\u001b[39m_lazy:\n\u001b[1;32m---> 54\u001b[0m     \u001b[38;5;28;01mraise\u001b[39;00m schema_error \u001b[38;5;28;01mfrom\u001b[39;00m \u001b[38;5;21;01moriginal_exc\u001b[39;00m\n\u001b[0;32m     56\u001b[0m \u001b[38;5;66;03m# delete data of validated object from SchemaError object to prevent\u001b[39;00m\n\u001b[0;32m     57\u001b[0m \u001b[38;5;66;03m# storing copies of the validated DataFrame/Series for every\u001b[39;00m\n\u001b[0;32m     58\u001b[0m \u001b[38;5;66;03m# SchemaError collected.\u001b[39;00m\n\u001b[0;32m     59\u001b[0m \u001b[38;5;28;01mif\u001b[39;00m \u001b[38;5;28mhasattr\u001b[39m(schema_error, \u001b[38;5;124m\"\u001b[39m\u001b[38;5;124mdata\u001b[39m\u001b[38;5;124m\"\u001b[39m):\n",
      "\u001b[1;31mSchemaError\u001b[0m: Column 'data' failed element-wise validator number 0: in_range(2015-07-26 00:00:00, 2025-07-26 00:00:00) failure cases: 2015-07-24 00:00:00"
     ]
    }
   ],
   "source": [
    "pa.DataFrameSchema.from_yaml(path_cny).validate(df)"
   ]
  },
  {
   "cell_type": "code",
   "execution_count": null,
   "id": "3df2f740",
   "metadata": {},
   "outputs": [
    {
     "ename": "SchemaError",
     "evalue": "Column 'data' failed element-wise validator number 0: in_range(2015-07-26 00:00:00, 2025-07-26 00:00:00) failure cases: 2015-07-24 00:00:00",
     "output_type": "error",
     "traceback": [
      "\u001b[1;31m---------------------------------------------------------------------------\u001b[0m",
      "\u001b[1;31mSchemaError\u001b[0m                               Traceback (most recent call last)",
      "Cell \u001b[1;32mIn[5], line 1\u001b[0m\n\u001b[1;32m----> 1\u001b[0m \u001b[43mschema_cny_brl\u001b[49m\u001b[38;5;241;43m.\u001b[39;49m\u001b[43mvalidate\u001b[49m\u001b[43m(\u001b[49m\u001b[43mdf\u001b[49m\u001b[43m)\u001b[49m\n",
      "File \u001b[1;32mc:\\Users\\BROliveiWa12\\AppData\\Local\\Programs\\Python\\Python312\\Lib\\site-packages\\pandera\\api\\pandas\\container.py:118\u001b[0m, in \u001b[0;36mDataFrameSchema.validate\u001b[1;34m(self, check_obj, head, tail, sample, random_state, lazy, inplace)\u001b[0m\n\u001b[0;32m    106\u001b[0m     check_obj \u001b[38;5;241m=\u001b[39m check_obj\u001b[38;5;241m.\u001b[39mmap_partitions(  \u001b[38;5;66;03m# type: ignore [operator]\u001b[39;00m\n\u001b[0;32m    107\u001b[0m         \u001b[38;5;28mself\u001b[39m\u001b[38;5;241m.\u001b[39m_validate,\n\u001b[0;32m    108\u001b[0m         head\u001b[38;5;241m=\u001b[39mhead,\n\u001b[1;32m   (...)\u001b[0m\n\u001b[0;32m    114\u001b[0m         meta\u001b[38;5;241m=\u001b[39mcheck_obj,\n\u001b[0;32m    115\u001b[0m     )\n\u001b[0;32m    116\u001b[0m     \u001b[38;5;28;01mreturn\u001b[39;00m check_obj\u001b[38;5;241m.\u001b[39mpandera\u001b[38;5;241m.\u001b[39madd_schema(\u001b[38;5;28mself\u001b[39m)\n\u001b[1;32m--> 118\u001b[0m \u001b[38;5;28;01mreturn\u001b[39;00m \u001b[38;5;28;43mself\u001b[39;49m\u001b[38;5;241;43m.\u001b[39;49m\u001b[43m_validate\u001b[49m\u001b[43m(\u001b[49m\n\u001b[0;32m    119\u001b[0m \u001b[43m    \u001b[49m\u001b[43mcheck_obj\u001b[49m\u001b[38;5;241;43m=\u001b[39;49m\u001b[43mcheck_obj\u001b[49m\u001b[43m,\u001b[49m\n\u001b[0;32m    120\u001b[0m \u001b[43m    \u001b[49m\u001b[43mhead\u001b[49m\u001b[38;5;241;43m=\u001b[39;49m\u001b[43mhead\u001b[49m\u001b[43m,\u001b[49m\n\u001b[0;32m    121\u001b[0m \u001b[43m    \u001b[49m\u001b[43mtail\u001b[49m\u001b[38;5;241;43m=\u001b[39;49m\u001b[43mtail\u001b[49m\u001b[43m,\u001b[49m\n\u001b[0;32m    122\u001b[0m \u001b[43m    \u001b[49m\u001b[43msample\u001b[49m\u001b[38;5;241;43m=\u001b[39;49m\u001b[43msample\u001b[49m\u001b[43m,\u001b[49m\n\u001b[0;32m    123\u001b[0m \u001b[43m    \u001b[49m\u001b[43mrandom_state\u001b[49m\u001b[38;5;241;43m=\u001b[39;49m\u001b[43mrandom_state\u001b[49m\u001b[43m,\u001b[49m\n\u001b[0;32m    124\u001b[0m \u001b[43m    \u001b[49m\u001b[43mlazy\u001b[49m\u001b[38;5;241;43m=\u001b[39;49m\u001b[43mlazy\u001b[49m\u001b[43m,\u001b[49m\n\u001b[0;32m    125\u001b[0m \u001b[43m    \u001b[49m\u001b[43minplace\u001b[49m\u001b[38;5;241;43m=\u001b[39;49m\u001b[43minplace\u001b[49m\u001b[43m,\u001b[49m\n\u001b[0;32m    126\u001b[0m \u001b[43m\u001b[49m\u001b[43m)\u001b[49m\n",
      "File \u001b[1;32mc:\\Users\\BROliveiWa12\\AppData\\Local\\Programs\\Python\\Python312\\Lib\\site-packages\\pandera\\api\\pandas\\container.py:139\u001b[0m, in \u001b[0;36mDataFrameSchema._validate\u001b[1;34m(self, check_obj, head, tail, sample, random_state, lazy, inplace)\u001b[0m\n\u001b[0;32m    128\u001b[0m \u001b[38;5;28;01mdef\u001b[39;00m \u001b[38;5;21m_validate\u001b[39m(\n\u001b[0;32m    129\u001b[0m     \u001b[38;5;28mself\u001b[39m,\n\u001b[0;32m    130\u001b[0m     check_obj: pd\u001b[38;5;241m.\u001b[39mDataFrame,\n\u001b[1;32m   (...)\u001b[0m\n\u001b[0;32m    136\u001b[0m     inplace: \u001b[38;5;28mbool\u001b[39m \u001b[38;5;241m=\u001b[39m \u001b[38;5;28;01mFalse\u001b[39;00m,\n\u001b[0;32m    137\u001b[0m ) \u001b[38;5;241m-\u001b[39m\u001b[38;5;241m>\u001b[39m pd\u001b[38;5;241m.\u001b[39mDataFrame:\n\u001b[1;32m--> 139\u001b[0m     \u001b[38;5;28;01mreturn\u001b[39;00m \u001b[38;5;28;43mself\u001b[39;49m\u001b[38;5;241;43m.\u001b[39;49m\u001b[43mget_backend\u001b[49m\u001b[43m(\u001b[49m\u001b[43mcheck_obj\u001b[49m\u001b[43m)\u001b[49m\u001b[38;5;241;43m.\u001b[39;49m\u001b[43mvalidate\u001b[49m\u001b[43m(\u001b[49m\n\u001b[0;32m    140\u001b[0m \u001b[43m        \u001b[49m\u001b[43mcheck_obj\u001b[49m\u001b[43m,\u001b[49m\n\u001b[0;32m    141\u001b[0m \u001b[43m        \u001b[49m\u001b[43mschema\u001b[49m\u001b[38;5;241;43m=\u001b[39;49m\u001b[38;5;28;43mself\u001b[39;49m\u001b[43m,\u001b[49m\n\u001b[0;32m    142\u001b[0m \u001b[43m        \u001b[49m\u001b[43mhead\u001b[49m\u001b[38;5;241;43m=\u001b[39;49m\u001b[43mhead\u001b[49m\u001b[43m,\u001b[49m\n\u001b[0;32m    143\u001b[0m \u001b[43m        \u001b[49m\u001b[43mtail\u001b[49m\u001b[38;5;241;43m=\u001b[39;49m\u001b[43mtail\u001b[49m\u001b[43m,\u001b[49m\n\u001b[0;32m    144\u001b[0m \u001b[43m        \u001b[49m\u001b[43msample\u001b[49m\u001b[38;5;241;43m=\u001b[39;49m\u001b[43msample\u001b[49m\u001b[43m,\u001b[49m\n\u001b[0;32m    145\u001b[0m \u001b[43m        \u001b[49m\u001b[43mrandom_state\u001b[49m\u001b[38;5;241;43m=\u001b[39;49m\u001b[43mrandom_state\u001b[49m\u001b[43m,\u001b[49m\n\u001b[0;32m    146\u001b[0m \u001b[43m        \u001b[49m\u001b[43mlazy\u001b[49m\u001b[38;5;241;43m=\u001b[39;49m\u001b[43mlazy\u001b[49m\u001b[43m,\u001b[49m\n\u001b[0;32m    147\u001b[0m \u001b[43m        \u001b[49m\u001b[43minplace\u001b[49m\u001b[38;5;241;43m=\u001b[39;49m\u001b[43minplace\u001b[49m\u001b[43m,\u001b[49m\n\u001b[0;32m    148\u001b[0m \u001b[43m    \u001b[49m\u001b[43m)\u001b[49m\n",
      "File \u001b[1;32mc:\\Users\\BROliveiWa12\\AppData\\Local\\Programs\\Python\\Python312\\Lib\\site-packages\\pandera\\backends\\pandas\\container.py:104\u001b[0m, in \u001b[0;36mDataFrameSchemaBackend.validate\u001b[1;34m(self, check_obj, schema, head, tail, sample, random_state, lazy, inplace)\u001b[0m\n\u001b[0;32m     99\u001b[0m components \u001b[38;5;241m=\u001b[39m \u001b[38;5;28mself\u001b[39m\u001b[38;5;241m.\u001b[39mcollect_schema_components(\n\u001b[0;32m    100\u001b[0m     check_obj, schema, column_info\n\u001b[0;32m    101\u001b[0m )\n\u001b[0;32m    103\u001b[0m \u001b[38;5;66;03m# run the checks\u001b[39;00m\n\u001b[1;32m--> 104\u001b[0m error_handler \u001b[38;5;241m=\u001b[39m \u001b[38;5;28;43mself\u001b[39;49m\u001b[38;5;241;43m.\u001b[39;49m\u001b[43mrun_checks_and_handle_errors\u001b[49m\u001b[43m(\u001b[49m\n\u001b[0;32m    105\u001b[0m \u001b[43m    \u001b[49m\u001b[43merror_handler\u001b[49m\u001b[43m,\u001b[49m\n\u001b[0;32m    106\u001b[0m \u001b[43m    \u001b[49m\u001b[43mschema\u001b[49m\u001b[43m,\u001b[49m\n\u001b[0;32m    107\u001b[0m \u001b[43m    \u001b[49m\u001b[43mcheck_obj\u001b[49m\u001b[43m,\u001b[49m\n\u001b[0;32m    108\u001b[0m \u001b[43m    \u001b[49m\u001b[43mcolumn_info\u001b[49m\u001b[43m,\u001b[49m\n\u001b[0;32m    109\u001b[0m \u001b[43m    \u001b[49m\u001b[43msample\u001b[49m\u001b[43m,\u001b[49m\n\u001b[0;32m    110\u001b[0m \u001b[43m    \u001b[49m\u001b[43mcomponents\u001b[49m\u001b[43m,\u001b[49m\n\u001b[0;32m    111\u001b[0m \u001b[43m    \u001b[49m\u001b[43mlazy\u001b[49m\u001b[43m,\u001b[49m\n\u001b[0;32m    112\u001b[0m \u001b[43m    \u001b[49m\u001b[43mhead\u001b[49m\u001b[43m,\u001b[49m\n\u001b[0;32m    113\u001b[0m \u001b[43m    \u001b[49m\u001b[43mtail\u001b[49m\u001b[43m,\u001b[49m\n\u001b[0;32m    114\u001b[0m \u001b[43m    \u001b[49m\u001b[43mrandom_state\u001b[49m\u001b[43m,\u001b[49m\n\u001b[0;32m    115\u001b[0m \u001b[43m\u001b[49m\u001b[43m)\u001b[49m\n\u001b[0;32m    117\u001b[0m \u001b[38;5;28;01mif\u001b[39;00m error_handler\u001b[38;5;241m.\u001b[39mcollected_errors:\n\u001b[0;32m    118\u001b[0m     \u001b[38;5;28;01mif\u001b[39;00m \u001b[38;5;28mgetattr\u001b[39m(schema, \u001b[38;5;124m\"\u001b[39m\u001b[38;5;124mdrop_invalid_rows\u001b[39m\u001b[38;5;124m\"\u001b[39m, \u001b[38;5;28;01mFalse\u001b[39;00m):\n\u001b[0;32m    119\u001b[0m         \u001b[38;5;66;03m# if the failure cases are a string, it means the error is\u001b[39;00m\n\u001b[0;32m    120\u001b[0m         \u001b[38;5;66;03m# a schema-level error.\u001b[39;00m\n",
      "File \u001b[1;32mc:\\Users\\BROliveiWa12\\AppData\\Local\\Programs\\Python\\Python312\\Lib\\site-packages\\pandera\\backends\\pandas\\container.py:192\u001b[0m, in \u001b[0;36mDataFrameSchemaBackend.run_checks_and_handle_errors\u001b[1;34m(self, error_handler, schema, check_obj, column_info, sample, components, lazy, head, tail, random_state)\u001b[0m\n\u001b[0;32m    181\u001b[0m         \u001b[38;5;28;01melse\u001b[39;00m:\n\u001b[0;32m    182\u001b[0m             error \u001b[38;5;241m=\u001b[39m SchemaError(\n\u001b[0;32m    183\u001b[0m                 schema,\n\u001b[0;32m    184\u001b[0m                 data\u001b[38;5;241m=\u001b[39mcheck_obj,\n\u001b[1;32m   (...)\u001b[0m\n\u001b[0;32m    190\u001b[0m                 reason_code\u001b[38;5;241m=\u001b[39mresult\u001b[38;5;241m.\u001b[39mreason_code,\n\u001b[0;32m    191\u001b[0m             )\n\u001b[1;32m--> 192\u001b[0m         \u001b[43merror_handler\u001b[49m\u001b[38;5;241;43m.\u001b[39;49m\u001b[43mcollect_error\u001b[49m\u001b[43m(\u001b[49m\n\u001b[0;32m    193\u001b[0m \u001b[43m            \u001b[49m\u001b[43mvalidation_type\u001b[49m\u001b[43m(\u001b[49m\u001b[43mresult\u001b[49m\u001b[38;5;241;43m.\u001b[39;49m\u001b[43mreason_code\u001b[49m\u001b[43m)\u001b[49m\u001b[43m,\u001b[49m\n\u001b[0;32m    194\u001b[0m \u001b[43m            \u001b[49m\u001b[43mresult\u001b[49m\u001b[38;5;241;43m.\u001b[39;49m\u001b[43mreason_code\u001b[49m\u001b[43m,\u001b[49m\n\u001b[0;32m    195\u001b[0m \u001b[43m            \u001b[49m\u001b[43merror\u001b[49m\u001b[43m,\u001b[49m\n\u001b[0;32m    196\u001b[0m \u001b[43m            \u001b[49m\u001b[43mresult\u001b[49m\u001b[38;5;241;43m.\u001b[39;49m\u001b[43moriginal_exc\u001b[49m\u001b[43m,\u001b[49m\n\u001b[0;32m    197\u001b[0m \u001b[43m        \u001b[49m\u001b[43m)\u001b[49m\n\u001b[0;32m    199\u001b[0m \u001b[38;5;28;01mreturn\u001b[39;00m error_handler\n",
      "File \u001b[1;32mc:\\Users\\BROliveiWa12\\AppData\\Local\\Programs\\Python\\Python312\\Lib\\site-packages\\pandera\\api\\base\\error_handler.py:54\u001b[0m, in \u001b[0;36mErrorHandler.collect_error\u001b[1;34m(self, error_type, reason_code, schema_error, original_exc)\u001b[0m\n\u001b[0;32m     47\u001b[0m \u001b[38;5;250m\u001b[39m\u001b[38;5;124;03m\"\"\"Collect schema error, raising exception if lazy is False.\u001b[39;00m\n\u001b[0;32m     48\u001b[0m \n\u001b[0;32m     49\u001b[0m \u001b[38;5;124;03m:param error_type: type of error\u001b[39;00m\n\u001b[0;32m     50\u001b[0m \u001b[38;5;124;03m:param reason_code: string representing reason for error\u001b[39;00m\n\u001b[0;32m     51\u001b[0m \u001b[38;5;124;03m:param schema_error: ``SchemaError`` object.\u001b[39;00m\n\u001b[0;32m     52\u001b[0m \u001b[38;5;124;03m\"\"\"\u001b[39;00m\n\u001b[0;32m     53\u001b[0m \u001b[38;5;28;01mif\u001b[39;00m \u001b[38;5;129;01mnot\u001b[39;00m \u001b[38;5;28mself\u001b[39m\u001b[38;5;241m.\u001b[39m_lazy:\n\u001b[1;32m---> 54\u001b[0m     \u001b[38;5;28;01mraise\u001b[39;00m schema_error \u001b[38;5;28;01mfrom\u001b[39;00m \u001b[38;5;21;01moriginal_exc\u001b[39;00m\n\u001b[0;32m     56\u001b[0m \u001b[38;5;66;03m# delete data of validated object from SchemaError object to prevent\u001b[39;00m\n\u001b[0;32m     57\u001b[0m \u001b[38;5;66;03m# storing copies of the validated DataFrame/Series for every\u001b[39;00m\n\u001b[0;32m     58\u001b[0m \u001b[38;5;66;03m# SchemaError collected.\u001b[39;00m\n\u001b[0;32m     59\u001b[0m \u001b[38;5;28;01mif\u001b[39;00m \u001b[38;5;28mhasattr\u001b[39m(schema_error, \u001b[38;5;124m\"\u001b[39m\u001b[38;5;124mdata\u001b[39m\u001b[38;5;124m\"\u001b[39m):\n",
      "File \u001b[1;32mc:\\Users\\BROliveiWa12\\AppData\\Local\\Programs\\Python\\Python312\\Lib\\site-packages\\pandera\\backends\\pandas\\container.py:227\u001b[0m, in \u001b[0;36mDataFrameSchemaBackend.run_schema_component_checks\u001b[1;34m(self, check_obj, schema, schema_components, lazy)\u001b[0m\n\u001b[0;32m    223\u001b[0m     \u001b[38;5;66;03m# disable coercion at the schema component level since the\u001b[39;00m\n\u001b[0;32m    224\u001b[0m     \u001b[38;5;66;03m# dataframe-level schema already coerced it.\u001b[39;00m\n\u001b[0;32m    225\u001b[0m     schema_component\u001b[38;5;241m.\u001b[39mcoerce \u001b[38;5;241m=\u001b[39m \u001b[38;5;28;01mFalse\u001b[39;00m  \u001b[38;5;66;03m# type: ignore\u001b[39;00m\n\u001b[1;32m--> 227\u001b[0m     result \u001b[38;5;241m=\u001b[39m \u001b[43mschema_component\u001b[49m\u001b[38;5;241;43m.\u001b[39;49m\u001b[43mvalidate\u001b[49m\u001b[43m(\u001b[49m\n\u001b[0;32m    228\u001b[0m \u001b[43m        \u001b[49m\u001b[43mcheck_obj\u001b[49m\u001b[43m,\u001b[49m\u001b[43m \u001b[49m\u001b[43mlazy\u001b[49m\u001b[38;5;241;43m=\u001b[39;49m\u001b[43mlazy\u001b[49m\u001b[43m,\u001b[49m\u001b[43m \u001b[49m\u001b[43minplace\u001b[49m\u001b[38;5;241;43m=\u001b[39;49m\u001b[38;5;28;43;01mTrue\u001b[39;49;00m\n\u001b[0;32m    229\u001b[0m \u001b[43m    \u001b[49m\u001b[43m)\u001b[49m\n\u001b[0;32m    231\u001b[0m     check_passed\u001b[38;5;241m.\u001b[39mappend(is_table(result))\n\u001b[0;32m    232\u001b[0m \u001b[38;5;28;01mexcept\u001b[39;00m SchemaError \u001b[38;5;28;01mas\u001b[39;00m err:\n",
      "File \u001b[1;32mc:\\Users\\BROliveiWa12\\AppData\\Local\\Programs\\Python\\Python312\\Lib\\site-packages\\pandera\\api\\dataframe\\components.py:149\u001b[0m, in \u001b[0;36mComponentSchema.validate\u001b[1;34m(self, check_obj, head, tail, sample, random_state, lazy, inplace)\u001b[0m\n\u001b[0;32m    120\u001b[0m \u001b[38;5;28;01mdef\u001b[39;00m \u001b[38;5;21mvalidate\u001b[39m(\n\u001b[0;32m    121\u001b[0m     \u001b[38;5;28mself\u001b[39m,\n\u001b[0;32m    122\u001b[0m     check_obj,\n\u001b[1;32m   (...)\u001b[0m\n\u001b[0;32m    129\u001b[0m ):\n\u001b[0;32m    130\u001b[0m     \u001b[38;5;66;03m# pylint: disable=too-many-locals,too-many-branches,too-many-statements\u001b[39;00m\n\u001b[0;32m    131\u001b[0m \u001b[38;5;250m    \u001b[39m\u001b[38;5;124;03m\"\"\"Validate a series or specific column in dataframe.\u001b[39;00m\n\u001b[0;32m    132\u001b[0m \n\u001b[0;32m    133\u001b[0m \u001b[38;5;124;03m    :check_obj: data object to validate.\u001b[39;00m\n\u001b[1;32m   (...)\u001b[0m\n\u001b[0;32m    147\u001b[0m \n\u001b[0;32m    148\u001b[0m \u001b[38;5;124;03m    \"\"\"\u001b[39;00m\n\u001b[1;32m--> 149\u001b[0m     \u001b[38;5;28;01mreturn\u001b[39;00m \u001b[38;5;28;43mself\u001b[39;49m\u001b[38;5;241;43m.\u001b[39;49m\u001b[43mget_backend\u001b[49m\u001b[43m(\u001b[49m\u001b[43mcheck_obj\u001b[49m\u001b[43m)\u001b[49m\u001b[38;5;241;43m.\u001b[39;49m\u001b[43mvalidate\u001b[49m\u001b[43m(\u001b[49m\n\u001b[0;32m    150\u001b[0m \u001b[43m        \u001b[49m\u001b[43mcheck_obj\u001b[49m\u001b[43m,\u001b[49m\n\u001b[0;32m    151\u001b[0m \u001b[43m        \u001b[49m\u001b[43mschema\u001b[49m\u001b[38;5;241;43m=\u001b[39;49m\u001b[38;5;28;43mself\u001b[39;49m\u001b[43m,\u001b[49m\n\u001b[0;32m    152\u001b[0m \u001b[43m        \u001b[49m\u001b[43mhead\u001b[49m\u001b[38;5;241;43m=\u001b[39;49m\u001b[43mhead\u001b[49m\u001b[43m,\u001b[49m\n\u001b[0;32m    153\u001b[0m \u001b[43m        \u001b[49m\u001b[43mtail\u001b[49m\u001b[38;5;241;43m=\u001b[39;49m\u001b[43mtail\u001b[49m\u001b[43m,\u001b[49m\n\u001b[0;32m    154\u001b[0m \u001b[43m        \u001b[49m\u001b[43msample\u001b[49m\u001b[38;5;241;43m=\u001b[39;49m\u001b[43msample\u001b[49m\u001b[43m,\u001b[49m\n\u001b[0;32m    155\u001b[0m \u001b[43m        \u001b[49m\u001b[43mrandom_state\u001b[49m\u001b[38;5;241;43m=\u001b[39;49m\u001b[43mrandom_state\u001b[49m\u001b[43m,\u001b[49m\n\u001b[0;32m    156\u001b[0m \u001b[43m        \u001b[49m\u001b[43mlazy\u001b[49m\u001b[38;5;241;43m=\u001b[39;49m\u001b[43mlazy\u001b[49m\u001b[43m,\u001b[49m\n\u001b[0;32m    157\u001b[0m \u001b[43m        \u001b[49m\u001b[43minplace\u001b[49m\u001b[38;5;241;43m=\u001b[39;49m\u001b[43minplace\u001b[49m\u001b[43m,\u001b[49m\n\u001b[0;32m    158\u001b[0m \u001b[43m    \u001b[49m\u001b[43m)\u001b[49m\n",
      "File \u001b[1;32mc:\\Users\\BROliveiWa12\\AppData\\Local\\Programs\\Python\\Python312\\Lib\\site-packages\\pandera\\backends\\pandas\\components.py:142\u001b[0m, in \u001b[0;36mColumnBackend.validate\u001b[1;34m(self, check_obj, schema, head, tail, sample, random_state, lazy, inplace)\u001b[0m\n\u001b[0;32m    136\u001b[0m \u001b[38;5;28;01mif\u001b[39;00m \u001b[38;5;28mgetattr\u001b[39m(schema, \u001b[38;5;124m\"\u001b[39m\u001b[38;5;124mdrop_invalid_rows\u001b[39m\u001b[38;5;124m\"\u001b[39m, \u001b[38;5;28;01mFalse\u001b[39;00m):\n\u001b[0;32m    137\u001b[0m     \u001b[38;5;66;03m# replace the check_obj with the validated\u001b[39;00m\n\u001b[0;32m    138\u001b[0m     check_obj \u001b[38;5;241m=\u001b[39m validate_column(\n\u001b[0;32m    139\u001b[0m         check_obj, column_name, return_check_obj\u001b[38;5;241m=\u001b[39m\u001b[38;5;28;01mTrue\u001b[39;00m\n\u001b[0;32m    140\u001b[0m     )\n\u001b[1;32m--> 142\u001b[0m validated_column \u001b[38;5;241m=\u001b[39m \u001b[43mvalidate_column\u001b[49m\u001b[43m(\u001b[49m\n\u001b[0;32m    143\u001b[0m \u001b[43m    \u001b[49m\u001b[43mcheck_obj\u001b[49m\u001b[43m,\u001b[49m\n\u001b[0;32m    144\u001b[0m \u001b[43m    \u001b[49m\u001b[43mcolumn_name\u001b[49m\u001b[43m,\u001b[49m\n\u001b[0;32m    145\u001b[0m \u001b[43m    \u001b[49m\u001b[43mreturn_check_obj\u001b[49m\u001b[38;5;241;43m=\u001b[39;49m\u001b[38;5;28;43;01mTrue\u001b[39;49;00m\u001b[43m,\u001b[49m\n\u001b[0;32m    146\u001b[0m \u001b[43m\u001b[49m\u001b[43m)\u001b[49m\n\u001b[0;32m    147\u001b[0m \u001b[38;5;28;01mif\u001b[39;00m schema\u001b[38;5;241m.\u001b[39mparsers:\n\u001b[0;32m    148\u001b[0m     check_obj[column_name] \u001b[38;5;241m=\u001b[39m validated_column\n",
      "File \u001b[1;32mc:\\Users\\BROliveiWa12\\AppData\\Local\\Programs\\Python\\Python312\\Lib\\site-packages\\pandera\\backends\\pandas\\components.py:102\u001b[0m, in \u001b[0;36mColumnBackend.validate.<locals>.validate_column\u001b[1;34m(check_obj, column_name, return_check_obj)\u001b[0m\n\u001b[0;32m    100\u001b[0m \u001b[38;5;28;01mexcept\u001b[39;00m SchemaError \u001b[38;5;28;01mas\u001b[39;00m err:\n\u001b[0;32m    101\u001b[0m     err\u001b[38;5;241m.\u001b[39mcolumn_name \u001b[38;5;241m=\u001b[39m column_name\n\u001b[1;32m--> 102\u001b[0m     \u001b[43merror_handler\u001b[49m\u001b[38;5;241;43m.\u001b[39;49m\u001b[43mcollect_error\u001b[49m\u001b[43m(\u001b[49m\n\u001b[0;32m    103\u001b[0m \u001b[43m        \u001b[49m\u001b[43mvalidation_type\u001b[49m\u001b[43m(\u001b[49m\u001b[43merr\u001b[49m\u001b[38;5;241;43m.\u001b[39;49m\u001b[43mreason_code\u001b[49m\u001b[43m)\u001b[49m\u001b[43m,\u001b[49m\u001b[43m \u001b[49m\u001b[43merr\u001b[49m\u001b[38;5;241;43m.\u001b[39;49m\u001b[43mreason_code\u001b[49m\u001b[43m,\u001b[49m\u001b[43m \u001b[49m\u001b[43merr\u001b[49m\n\u001b[0;32m    104\u001b[0m \u001b[43m    \u001b[49m\u001b[43m)\u001b[49m\n",
      "File \u001b[1;32mc:\\Users\\BROliveiWa12\\AppData\\Local\\Programs\\Python\\Python312\\Lib\\site-packages\\pandera\\api\\base\\error_handler.py:54\u001b[0m, in \u001b[0;36mErrorHandler.collect_error\u001b[1;34m(self, error_type, reason_code, schema_error, original_exc)\u001b[0m\n\u001b[0;32m     47\u001b[0m \u001b[38;5;250m\u001b[39m\u001b[38;5;124;03m\"\"\"Collect schema error, raising exception if lazy is False.\u001b[39;00m\n\u001b[0;32m     48\u001b[0m \n\u001b[0;32m     49\u001b[0m \u001b[38;5;124;03m:param error_type: type of error\u001b[39;00m\n\u001b[0;32m     50\u001b[0m \u001b[38;5;124;03m:param reason_code: string representing reason for error\u001b[39;00m\n\u001b[0;32m     51\u001b[0m \u001b[38;5;124;03m:param schema_error: ``SchemaError`` object.\u001b[39;00m\n\u001b[0;32m     52\u001b[0m \u001b[38;5;124;03m\"\"\"\u001b[39;00m\n\u001b[0;32m     53\u001b[0m \u001b[38;5;28;01mif\u001b[39;00m \u001b[38;5;129;01mnot\u001b[39;00m \u001b[38;5;28mself\u001b[39m\u001b[38;5;241m.\u001b[39m_lazy:\n\u001b[1;32m---> 54\u001b[0m     \u001b[38;5;28;01mraise\u001b[39;00m schema_error \u001b[38;5;28;01mfrom\u001b[39;00m \u001b[38;5;21;01moriginal_exc\u001b[39;00m\n\u001b[0;32m     56\u001b[0m \u001b[38;5;66;03m# delete data of validated object from SchemaError object to prevent\u001b[39;00m\n\u001b[0;32m     57\u001b[0m \u001b[38;5;66;03m# storing copies of the validated DataFrame/Series for every\u001b[39;00m\n\u001b[0;32m     58\u001b[0m \u001b[38;5;66;03m# SchemaError collected.\u001b[39;00m\n\u001b[0;32m     59\u001b[0m \u001b[38;5;28;01mif\u001b[39;00m \u001b[38;5;28mhasattr\u001b[39m(schema_error, \u001b[38;5;124m\"\u001b[39m\u001b[38;5;124mdata\u001b[39m\u001b[38;5;124m\"\u001b[39m):\n",
      "File \u001b[1;32mc:\\Users\\BROliveiWa12\\AppData\\Local\\Programs\\Python\\Python312\\Lib\\site-packages\\pandera\\backends\\pandas\\components.py:78\u001b[0m, in \u001b[0;36mColumnBackend.validate.<locals>.validate_column\u001b[1;34m(check_obj, column_name, return_check_obj)\u001b[0m\n\u001b[0;32m     73\u001b[0m \u001b[38;5;28;01mtry\u001b[39;00m:\n\u001b[0;32m     74\u001b[0m     \u001b[38;5;66;03m# pylint: disable=super-with-arguments\u001b[39;00m\n\u001b[0;32m     75\u001b[0m     \u001b[38;5;66;03m# make sure the schema component mutations are reverted after\u001b[39;00m\n\u001b[0;32m     76\u001b[0m     \u001b[38;5;66;03m# validation\u001b[39;00m\n\u001b[0;32m     77\u001b[0m     _orig_name \u001b[38;5;241m=\u001b[39m schema\u001b[38;5;241m.\u001b[39mname\n\u001b[1;32m---> 78\u001b[0m     validated_check_obj \u001b[38;5;241m=\u001b[39m \u001b[38;5;28;43msuper\u001b[39;49m\u001b[43m(\u001b[49m\u001b[43mColumnBackend\u001b[49m\u001b[43m,\u001b[49m\u001b[43m \u001b[49m\u001b[38;5;28;43mself\u001b[39;49m\u001b[43m)\u001b[49m\u001b[38;5;241;43m.\u001b[39;49m\u001b[43mvalidate\u001b[49m\u001b[43m(\u001b[49m\n\u001b[0;32m     79\u001b[0m \u001b[43m        \u001b[49m\u001b[43mcheck_obj\u001b[49m\u001b[43m,\u001b[49m\n\u001b[0;32m     80\u001b[0m \u001b[43m        \u001b[49m\u001b[43mschema\u001b[49m\u001b[38;5;241;43m.\u001b[39;49m\u001b[43mset_name\u001b[49m\u001b[43m(\u001b[49m\u001b[43mcolumn_name\u001b[49m\u001b[43m)\u001b[49m\u001b[43m,\u001b[49m\n\u001b[0;32m     81\u001b[0m \u001b[43m        \u001b[49m\u001b[43mhead\u001b[49m\u001b[38;5;241;43m=\u001b[39;49m\u001b[43mhead\u001b[49m\u001b[43m,\u001b[49m\n\u001b[0;32m     82\u001b[0m \u001b[43m        \u001b[49m\u001b[43mtail\u001b[49m\u001b[38;5;241;43m=\u001b[39;49m\u001b[43mtail\u001b[49m\u001b[43m,\u001b[49m\n\u001b[0;32m     83\u001b[0m \u001b[43m        \u001b[49m\u001b[43msample\u001b[49m\u001b[38;5;241;43m=\u001b[39;49m\u001b[43msample\u001b[49m\u001b[43m,\u001b[49m\n\u001b[0;32m     84\u001b[0m \u001b[43m        \u001b[49m\u001b[43mrandom_state\u001b[49m\u001b[38;5;241;43m=\u001b[39;49m\u001b[43mrandom_state\u001b[49m\u001b[43m,\u001b[49m\n\u001b[0;32m     85\u001b[0m \u001b[43m        \u001b[49m\u001b[43mlazy\u001b[49m\u001b[38;5;241;43m=\u001b[39;49m\u001b[43mlazy\u001b[49m\u001b[43m,\u001b[49m\n\u001b[0;32m     86\u001b[0m \u001b[43m        \u001b[49m\u001b[43minplace\u001b[49m\u001b[38;5;241;43m=\u001b[39;49m\u001b[43minplace\u001b[49m\u001b[43m,\u001b[49m\n\u001b[0;32m     87\u001b[0m \u001b[43m    \u001b[49m\u001b[43m)\u001b[49m\n\u001b[0;32m     88\u001b[0m     \u001b[38;5;66;03m# revert the schema component mutations\u001b[39;00m\n\u001b[0;32m     89\u001b[0m     schema\u001b[38;5;241m.\u001b[39mname \u001b[38;5;241m=\u001b[39m _orig_name\n",
      "File \u001b[1;32mc:\\Users\\BROliveiWa12\\AppData\\Local\\Programs\\Python\\Python312\\Lib\\site-packages\\pandera\\backends\\pandas\\array.py:74\u001b[0m, in \u001b[0;36mArraySchemaBackend.validate\u001b[1;34m(self, check_obj, schema, head, tail, sample, random_state, lazy, inplace)\u001b[0m\n\u001b[0;32m     67\u001b[0m     error_handler\u001b[38;5;241m.\u001b[39mcollect_error(\n\u001b[0;32m     68\u001b[0m         validation_type(exc\u001b[38;5;241m.\u001b[39mreason_code),\n\u001b[0;32m     69\u001b[0m         exc\u001b[38;5;241m.\u001b[39mreason_code,\n\u001b[0;32m     70\u001b[0m         exc,\n\u001b[0;32m     71\u001b[0m     )\n\u001b[0;32m     73\u001b[0m \u001b[38;5;66;03m# run the core checks\u001b[39;00m\n\u001b[1;32m---> 74\u001b[0m error_handler \u001b[38;5;241m=\u001b[39m \u001b[38;5;28;43mself\u001b[39;49m\u001b[38;5;241;43m.\u001b[39;49m\u001b[43mrun_checks_and_handle_errors\u001b[49m\u001b[43m(\u001b[49m\n\u001b[0;32m     75\u001b[0m \u001b[43m    \u001b[49m\u001b[43merror_handler\u001b[49m\u001b[43m,\u001b[49m\n\u001b[0;32m     76\u001b[0m \u001b[43m    \u001b[49m\u001b[43mschema\u001b[49m\u001b[43m,\u001b[49m\n\u001b[0;32m     77\u001b[0m \u001b[43m    \u001b[49m\u001b[43mcheck_obj\u001b[49m\u001b[43m,\u001b[49m\n\u001b[0;32m     78\u001b[0m \u001b[43m    \u001b[49m\u001b[43mhead\u001b[49m\u001b[38;5;241;43m=\u001b[39;49m\u001b[43mhead\u001b[49m\u001b[43m,\u001b[49m\n\u001b[0;32m     79\u001b[0m \u001b[43m    \u001b[49m\u001b[43mtail\u001b[49m\u001b[38;5;241;43m=\u001b[39;49m\u001b[43mtail\u001b[49m\u001b[43m,\u001b[49m\n\u001b[0;32m     80\u001b[0m \u001b[43m    \u001b[49m\u001b[43msample\u001b[49m\u001b[38;5;241;43m=\u001b[39;49m\u001b[43msample\u001b[49m\u001b[43m,\u001b[49m\n\u001b[0;32m     81\u001b[0m \u001b[43m    \u001b[49m\u001b[43mrandom_state\u001b[49m\u001b[38;5;241;43m=\u001b[39;49m\u001b[43mrandom_state\u001b[49m\u001b[43m,\u001b[49m\n\u001b[0;32m     82\u001b[0m \u001b[43m\u001b[49m\u001b[43m)\u001b[49m\n\u001b[0;32m     84\u001b[0m \u001b[38;5;28;01mif\u001b[39;00m lazy \u001b[38;5;129;01mand\u001b[39;00m error_handler\u001b[38;5;241m.\u001b[39mcollected_errors:\n\u001b[0;32m     85\u001b[0m     \u001b[38;5;28;01mif\u001b[39;00m \u001b[38;5;28mgetattr\u001b[39m(schema, \u001b[38;5;124m\"\u001b[39m\u001b[38;5;124mdrop_invalid_rows\u001b[39m\u001b[38;5;124m\"\u001b[39m, \u001b[38;5;28;01mFalse\u001b[39;00m):\n",
      "File \u001b[1;32mc:\\Users\\BROliveiWa12\\AppData\\Local\\Programs\\Python\\Python312\\Lib\\site-packages\\pandera\\backends\\pandas\\array.py:138\u001b[0m, in \u001b[0;36mArraySchemaBackend.run_checks_and_handle_errors\u001b[1;34m(self, error_handler, schema, check_obj, **subsample_kwargs)\u001b[0m\n\u001b[0;32m    127\u001b[0m         \u001b[38;5;28;01melse\u001b[39;00m:\n\u001b[0;32m    128\u001b[0m             error \u001b[38;5;241m=\u001b[39m SchemaError(\n\u001b[0;32m    129\u001b[0m                 schema\u001b[38;5;241m=\u001b[39mschema,\n\u001b[0;32m    130\u001b[0m                 data\u001b[38;5;241m=\u001b[39mcheck_obj,\n\u001b[1;32m   (...)\u001b[0m\n\u001b[0;32m    136\u001b[0m                 reason_code\u001b[38;5;241m=\u001b[39mresult\u001b[38;5;241m.\u001b[39mreason_code,\n\u001b[0;32m    137\u001b[0m             )\n\u001b[1;32m--> 138\u001b[0m             \u001b[43merror_handler\u001b[49m\u001b[38;5;241;43m.\u001b[39;49m\u001b[43mcollect_error\u001b[49m\u001b[43m(\u001b[49m\n\u001b[0;32m    139\u001b[0m \u001b[43m                \u001b[49m\u001b[43mvalidation_type\u001b[49m\u001b[43m(\u001b[49m\u001b[43mresult\u001b[49m\u001b[38;5;241;43m.\u001b[39;49m\u001b[43mreason_code\u001b[49m\u001b[43m)\u001b[49m\u001b[43m,\u001b[49m\n\u001b[0;32m    140\u001b[0m \u001b[43m                \u001b[49m\u001b[43mresult\u001b[49m\u001b[38;5;241;43m.\u001b[39;49m\u001b[43mreason_code\u001b[49m\u001b[43m,\u001b[49m\n\u001b[0;32m    141\u001b[0m \u001b[43m                \u001b[49m\u001b[43merror\u001b[49m\u001b[43m,\u001b[49m\n\u001b[0;32m    142\u001b[0m \u001b[43m                \u001b[49m\u001b[43moriginal_exc\u001b[49m\u001b[38;5;241;43m=\u001b[39;49m\u001b[43mresult\u001b[49m\u001b[38;5;241;43m.\u001b[39;49m\u001b[43moriginal_exc\u001b[49m\u001b[43m,\u001b[49m\n\u001b[0;32m    143\u001b[0m \u001b[43m            \u001b[49m\u001b[43m)\u001b[49m\n\u001b[0;32m    145\u001b[0m \u001b[38;5;28;01mreturn\u001b[39;00m error_handler\n",
      "File \u001b[1;32mc:\\Users\\BROliveiWa12\\AppData\\Local\\Programs\\Python\\Python312\\Lib\\site-packages\\pandera\\api\\base\\error_handler.py:54\u001b[0m, in \u001b[0;36mErrorHandler.collect_error\u001b[1;34m(self, error_type, reason_code, schema_error, original_exc)\u001b[0m\n\u001b[0;32m     47\u001b[0m \u001b[38;5;250m\u001b[39m\u001b[38;5;124;03m\"\"\"Collect schema error, raising exception if lazy is False.\u001b[39;00m\n\u001b[0;32m     48\u001b[0m \n\u001b[0;32m     49\u001b[0m \u001b[38;5;124;03m:param error_type: type of error\u001b[39;00m\n\u001b[0;32m     50\u001b[0m \u001b[38;5;124;03m:param reason_code: string representing reason for error\u001b[39;00m\n\u001b[0;32m     51\u001b[0m \u001b[38;5;124;03m:param schema_error: ``SchemaError`` object.\u001b[39;00m\n\u001b[0;32m     52\u001b[0m \u001b[38;5;124;03m\"\"\"\u001b[39;00m\n\u001b[0;32m     53\u001b[0m \u001b[38;5;28;01mif\u001b[39;00m \u001b[38;5;129;01mnot\u001b[39;00m \u001b[38;5;28mself\u001b[39m\u001b[38;5;241m.\u001b[39m_lazy:\n\u001b[1;32m---> 54\u001b[0m     \u001b[38;5;28;01mraise\u001b[39;00m schema_error \u001b[38;5;28;01mfrom\u001b[39;00m \u001b[38;5;21;01moriginal_exc\u001b[39;00m\n\u001b[0;32m     56\u001b[0m \u001b[38;5;66;03m# delete data of validated object from SchemaError object to prevent\u001b[39;00m\n\u001b[0;32m     57\u001b[0m \u001b[38;5;66;03m# storing copies of the validated DataFrame/Series for every\u001b[39;00m\n\u001b[0;32m     58\u001b[0m \u001b[38;5;66;03m# SchemaError collected.\u001b[39;00m\n\u001b[0;32m     59\u001b[0m \u001b[38;5;28;01mif\u001b[39;00m \u001b[38;5;28mhasattr\u001b[39m(schema_error, \u001b[38;5;124m\"\u001b[39m\u001b[38;5;124mdata\u001b[39m\u001b[38;5;124m\"\u001b[39m):\n",
      "\u001b[1;31mSchemaError\u001b[0m: Column 'data' failed element-wise validator number 0: in_range(2015-07-26 00:00:00, 2025-07-26 00:00:00) failure cases: 2015-07-24 00:00:00"
     ]
    }
   ],
   "source": [
    "schema_cny_brl.validate(S)"
   ]
  },
  {
   "cell_type": "code",
   "execution_count": null,
   "id": "c453d484",
   "metadata": {},
   "outputs": [],
   "source": [
    "import yaml\n",
    "import black"
   ]
  },
  {
   "cell_type": "code",
   "execution_count": 8,
   "id": "155b4ca0",
   "metadata": {},
   "outputs": [
    {
     "ename": "ModuleNotFoundError",
     "evalue": "No module named 'black'",
     "output_type": "error",
     "traceback": [
      "\u001b[1;31m---------------------------------------------------------------------------\u001b[0m",
      "\u001b[1;31mModuleNotFoundError\u001b[0m                       Traceback (most recent call last)",
      "Cell \u001b[1;32mIn[8], line 1\u001b[0m\n\u001b[1;32m----> 1\u001b[0m \u001b[38;5;28;01mimport\u001b[39;00m \u001b[38;5;21;01mblack\u001b[39;00m\n\u001b[0;32m      2\u001b[0m \u001b[38;5;28;01mimport\u001b[39;00m \u001b[38;5;21;01myaml\u001b[39;00m\n",
      "\u001b[1;31mModuleNotFoundError\u001b[0m: No module named 'black'"
     ]
    }
   ],
   "source": [
    "import black\n",
    "import yaml\n"
   ]
  },
  {
   "cell_type": "code",
   "execution_count": null,
   "id": "05662464",
   "metadata": {},
   "outputs": [],
   "source": []
  },
  {
   "cell_type": "code",
   "execution_count": 5,
   "id": "309a6318",
   "metadata": {},
   "outputs": [
    {
     "ename": "ImportError",
     "evalue": "IO and formatting requires 'pyyaml', 'black' and 'frictionless'to be installed.\nYou can install pandera together with the IO dependencies with:\npip install pandera[io]\n",
     "output_type": "error",
     "traceback": [
      "\u001b[1;31m---------------------------------------------------------------------------\u001b[0m",
      "\u001b[1;31mModuleNotFoundError\u001b[0m                       Traceback (most recent call last)",
      "File \u001b[1;32mc:\\Users\\BROliveiWa12\\AppData\\Local\\Programs\\Python\\Python312\\Lib\\site-packages\\pandera\\io\\pandas_io.py:21\u001b[0m\n\u001b[0;32m     20\u001b[0m \u001b[38;5;28;01mtry\u001b[39;00m:\n\u001b[1;32m---> 21\u001b[0m     \u001b[38;5;28;01mimport\u001b[39;00m \u001b[38;5;21;01mblack\u001b[39;00m\n\u001b[0;32m     22\u001b[0m     \u001b[38;5;28;01mimport\u001b[39;00m \u001b[38;5;21;01myaml\u001b[39;00m\n",
      "\u001b[1;31mModuleNotFoundError\u001b[0m: No module named 'black'",
      "\nThe above exception was the direct cause of the following exception:\n",
      "\u001b[1;31mImportError\u001b[0m                               Traceback (most recent call last)",
      "Cell \u001b[1;32mIn[5], line 1\u001b[0m\n\u001b[1;32m----> 1\u001b[0m \u001b[38;5;28;01mimport\u001b[39;00m \u001b[38;5;21;01mpandera\u001b[39;00m\u001b[38;5;21;01m.\u001b[39;00m\u001b[38;5;21;01mio\u001b[39;00m \u001b[38;5;28;01mas\u001b[39;00m \u001b[38;5;21;01mio\u001b[39;00m\n",
      "File \u001b[1;32mc:\\Users\\BROliveiWa12\\AppData\\Local\\Programs\\Python\\Python312\\Lib\\site-packages\\pandera\\io\\__init__.py:3\u001b[0m\n\u001b[0;32m      1\u001b[0m \u001b[38;5;124;03m\"\"\"Subpackage for serializing/deserializing pandera schemas to other formats.\"\"\"\u001b[39;00m\n\u001b[1;32m----> 3\u001b[0m \u001b[38;5;28;01mfrom\u001b[39;00m \u001b[38;5;21;01mpandera\u001b[39;00m\u001b[38;5;21;01m.\u001b[39;00m\u001b[38;5;21;01mio\u001b[39;00m\u001b[38;5;21;01m.\u001b[39;00m\u001b[38;5;21;01mpandas_io\u001b[39;00m \u001b[38;5;28;01mimport\u001b[39;00m (\n\u001b[0;32m      4\u001b[0m     _deserialize_check_stats,\n\u001b[0;32m      5\u001b[0m     _deserialize_component_stats,\n\u001b[0;32m      6\u001b[0m     _format_checks,\n\u001b[0;32m      7\u001b[0m     _format_index,\n\u001b[0;32m      8\u001b[0m     _format_script,\n\u001b[0;32m      9\u001b[0m     _get_dtype_string_alias,\n\u001b[0;32m     10\u001b[0m     _serialize_check_stats,\n\u001b[0;32m     11\u001b[0m     _serialize_component_stats,\n\u001b[0;32m     12\u001b[0m     _serialize_dataframe_stats,\n\u001b[0;32m     13\u001b[0m     deserialize_schema,\n\u001b[0;32m     14\u001b[0m     from_frictionless_schema,\n\u001b[0;32m     15\u001b[0m     from_json,\n\u001b[0;32m     16\u001b[0m     from_yaml,\n\u001b[0;32m     17\u001b[0m     serialize_schema,\n\u001b[0;32m     18\u001b[0m     to_json,\n\u001b[0;32m     19\u001b[0m     to_script,\n\u001b[0;32m     20\u001b[0m     to_yaml,\n\u001b[0;32m     21\u001b[0m )\n",
      "File \u001b[1;32mc:\\Users\\BROliveiWa12\\AppData\\Local\\Programs\\Python\\Python312\\Lib\\site-packages\\pandera\\io\\pandas_io.py:25\u001b[0m\n\u001b[0;32m     23\u001b[0m     \u001b[38;5;28;01mfrom\u001b[39;00m \u001b[38;5;21;01mfrictionless\u001b[39;00m \u001b[38;5;28;01mimport\u001b[39;00m Schema \u001b[38;5;28;01mas\u001b[39;00m FrictionlessSchema\n\u001b[0;32m     24\u001b[0m \u001b[38;5;28;01mexcept\u001b[39;00m \u001b[38;5;167;01mImportError\u001b[39;00m \u001b[38;5;28;01mas\u001b[39;00m exc:  \u001b[38;5;66;03m# pragma: no cover\u001b[39;00m\n\u001b[1;32m---> 25\u001b[0m     \u001b[38;5;28;01mraise\u001b[39;00m \u001b[38;5;167;01mImportError\u001b[39;00m(\n\u001b[0;32m     26\u001b[0m         \u001b[38;5;124m\"\u001b[39m\u001b[38;5;124mIO and formatting requires \u001b[39m\u001b[38;5;124m'\u001b[39m\u001b[38;5;124mpyyaml\u001b[39m\u001b[38;5;124m'\u001b[39m\u001b[38;5;124m, \u001b[39m\u001b[38;5;124m'\u001b[39m\u001b[38;5;124mblack\u001b[39m\u001b[38;5;124m'\u001b[39m\u001b[38;5;124m and \u001b[39m\u001b[38;5;124m'\u001b[39m\u001b[38;5;124mfrictionless\u001b[39m\u001b[38;5;124m'\u001b[39m\u001b[38;5;124m\"\u001b[39m\n\u001b[0;32m     27\u001b[0m         \u001b[38;5;124m\"\u001b[39m\u001b[38;5;124mto be installed.\u001b[39m\u001b[38;5;130;01m\\n\u001b[39;00m\u001b[38;5;124m\"\u001b[39m\n\u001b[0;32m     28\u001b[0m         \u001b[38;5;124m\"\u001b[39m\u001b[38;5;124mYou can install pandera together with the IO dependencies with:\u001b[39m\u001b[38;5;130;01m\\n\u001b[39;00m\u001b[38;5;124m\"\u001b[39m\n\u001b[0;32m     29\u001b[0m         \u001b[38;5;124m\"\u001b[39m\u001b[38;5;124mpip install pandera[io]\u001b[39m\u001b[38;5;130;01m\\n\u001b[39;00m\u001b[38;5;124m\"\u001b[39m\n\u001b[0;32m     30\u001b[0m     ) \u001b[38;5;28;01mfrom\u001b[39;00m \u001b[38;5;21;01mexc\u001b[39;00m\n\u001b[0;32m     33\u001b[0m DATETIME_FORMAT \u001b[38;5;241m=\u001b[39m \u001b[38;5;124m\"\u001b[39m\u001b[38;5;124m%\u001b[39m\u001b[38;5;124mY-\u001b[39m\u001b[38;5;124m%\u001b[39m\u001b[38;5;124mm-\u001b[39m\u001b[38;5;132;01m%d\u001b[39;00m\u001b[38;5;124m \u001b[39m\u001b[38;5;124m%\u001b[39m\u001b[38;5;124mH:\u001b[39m\u001b[38;5;124m%\u001b[39m\u001b[38;5;124mM:\u001b[39m\u001b[38;5;124m%\u001b[39m\u001b[38;5;124mS\u001b[39m\u001b[38;5;124m\"\u001b[39m\n\u001b[0;32m     36\u001b[0m \u001b[38;5;28;01mdef\u001b[39;00m \u001b[38;5;21m_get_dtype_string_alias\u001b[39m(dtype: pandas_engine\u001b[38;5;241m.\u001b[39mDataType) \u001b[38;5;241m-\u001b[39m\u001b[38;5;241m>\u001b[39m \u001b[38;5;28mstr\u001b[39m:\n",
      "\u001b[1;31mImportError\u001b[0m: IO and formatting requires 'pyyaml', 'black' and 'frictionless'to be installed.\nYou can install pandera together with the IO dependencies with:\npip install pandera[io]\n"
     ]
    }
   ],
   "source": [
    "import pandera.io as io"
   ]
  },
  {
   "cell_type": "code",
   "execution_count": 1,
   "id": "c3fbb563",
   "metadata": {},
   "outputs": [
    {
     "ename": "ImportError",
     "evalue": "IO and formatting requires 'pyyaml', 'black' and 'frictionless'to be installed.\nYou can install pandera together with the IO dependencies with:\npip install pandera[io]\n",
     "output_type": "error",
     "traceback": [
      "\u001b[1;31m---------------------------------------------------------------------------\u001b[0m",
      "\u001b[1;31mModuleNotFoundError\u001b[0m                       Traceback (most recent call last)",
      "File \u001b[1;32mc:\\Users\\BROliveiWa12\\AppData\\Local\\Programs\\Python\\Python312\\Lib\\site-packages\\pandera\\io\\pandas_io.py:21\u001b[0m\n\u001b[0;32m     20\u001b[0m \u001b[38;5;28;01mtry\u001b[39;00m:\n\u001b[1;32m---> 21\u001b[0m     \u001b[38;5;28;01mimport\u001b[39;00m \u001b[38;5;21;01mblack\u001b[39;00m\n\u001b[0;32m     22\u001b[0m     \u001b[38;5;28;01mimport\u001b[39;00m \u001b[38;5;21;01myaml\u001b[39;00m\n",
      "\u001b[1;31mModuleNotFoundError\u001b[0m: No module named 'black'",
      "\nThe above exception was the direct cause of the following exception:\n",
      "\u001b[1;31mImportError\u001b[0m                               Traceback (most recent call last)",
      "Cell \u001b[1;32mIn[1], line 2\u001b[0m\n\u001b[0;32m      1\u001b[0m \u001b[38;5;28;01mimport\u001b[39;00m \u001b[38;5;21;01mpandera\u001b[39;00m \u001b[38;5;28;01mas\u001b[39;00m \u001b[38;5;21;01mpa\u001b[39;00m\n\u001b[1;32m----> 2\u001b[0m \u001b[38;5;28;01mfrom\u001b[39;00m \u001b[38;5;21;01mpandera\u001b[39;00m \u001b[38;5;28;01mimport\u001b[39;00m io\n",
      "File \u001b[1;32mc:\\Users\\BROliveiWa12\\AppData\\Local\\Programs\\Python\\Python312\\Lib\\site-packages\\pandera\\io\\__init__.py:3\u001b[0m\n\u001b[0;32m      1\u001b[0m \u001b[38;5;124;03m\"\"\"Subpackage for serializing/deserializing pandera schemas to other formats.\"\"\"\u001b[39;00m\n\u001b[1;32m----> 3\u001b[0m \u001b[38;5;28;01mfrom\u001b[39;00m \u001b[38;5;21;01mpandera\u001b[39;00m\u001b[38;5;21;01m.\u001b[39;00m\u001b[38;5;21;01mio\u001b[39;00m\u001b[38;5;21;01m.\u001b[39;00m\u001b[38;5;21;01mpandas_io\u001b[39;00m \u001b[38;5;28;01mimport\u001b[39;00m (\n\u001b[0;32m      4\u001b[0m     _deserialize_check_stats,\n\u001b[0;32m      5\u001b[0m     _deserialize_component_stats,\n\u001b[0;32m      6\u001b[0m     _format_checks,\n\u001b[0;32m      7\u001b[0m     _format_index,\n\u001b[0;32m      8\u001b[0m     _format_script,\n\u001b[0;32m      9\u001b[0m     _get_dtype_string_alias,\n\u001b[0;32m     10\u001b[0m     _serialize_check_stats,\n\u001b[0;32m     11\u001b[0m     _serialize_component_stats,\n\u001b[0;32m     12\u001b[0m     _serialize_dataframe_stats,\n\u001b[0;32m     13\u001b[0m     deserialize_schema,\n\u001b[0;32m     14\u001b[0m     from_frictionless_schema,\n\u001b[0;32m     15\u001b[0m     from_json,\n\u001b[0;32m     16\u001b[0m     from_yaml,\n\u001b[0;32m     17\u001b[0m     serialize_schema,\n\u001b[0;32m     18\u001b[0m     to_json,\n\u001b[0;32m     19\u001b[0m     to_script,\n\u001b[0;32m     20\u001b[0m     to_yaml,\n\u001b[0;32m     21\u001b[0m )\n",
      "File \u001b[1;32mc:\\Users\\BROliveiWa12\\AppData\\Local\\Programs\\Python\\Python312\\Lib\\site-packages\\pandera\\io\\pandas_io.py:25\u001b[0m\n\u001b[0;32m     23\u001b[0m     \u001b[38;5;28;01mfrom\u001b[39;00m \u001b[38;5;21;01mfrictionless\u001b[39;00m \u001b[38;5;28;01mimport\u001b[39;00m Schema \u001b[38;5;28;01mas\u001b[39;00m FrictionlessSchema\n\u001b[0;32m     24\u001b[0m \u001b[38;5;28;01mexcept\u001b[39;00m \u001b[38;5;167;01mImportError\u001b[39;00m \u001b[38;5;28;01mas\u001b[39;00m exc:  \u001b[38;5;66;03m# pragma: no cover\u001b[39;00m\n\u001b[1;32m---> 25\u001b[0m     \u001b[38;5;28;01mraise\u001b[39;00m \u001b[38;5;167;01mImportError\u001b[39;00m(\n\u001b[0;32m     26\u001b[0m         \u001b[38;5;124m\"\u001b[39m\u001b[38;5;124mIO and formatting requires \u001b[39m\u001b[38;5;124m'\u001b[39m\u001b[38;5;124mpyyaml\u001b[39m\u001b[38;5;124m'\u001b[39m\u001b[38;5;124m, \u001b[39m\u001b[38;5;124m'\u001b[39m\u001b[38;5;124mblack\u001b[39m\u001b[38;5;124m'\u001b[39m\u001b[38;5;124m and \u001b[39m\u001b[38;5;124m'\u001b[39m\u001b[38;5;124mfrictionless\u001b[39m\u001b[38;5;124m'\u001b[39m\u001b[38;5;124m\"\u001b[39m\n\u001b[0;32m     27\u001b[0m         \u001b[38;5;124m\"\u001b[39m\u001b[38;5;124mto be installed.\u001b[39m\u001b[38;5;130;01m\\n\u001b[39;00m\u001b[38;5;124m\"\u001b[39m\n\u001b[0;32m     28\u001b[0m         \u001b[38;5;124m\"\u001b[39m\u001b[38;5;124mYou can install pandera together with the IO dependencies with:\u001b[39m\u001b[38;5;130;01m\\n\u001b[39;00m\u001b[38;5;124m\"\u001b[39m\n\u001b[0;32m     29\u001b[0m         \u001b[38;5;124m\"\u001b[39m\u001b[38;5;124mpip install pandera[io]\u001b[39m\u001b[38;5;130;01m\\n\u001b[39;00m\u001b[38;5;124m\"\u001b[39m\n\u001b[0;32m     30\u001b[0m     ) \u001b[38;5;28;01mfrom\u001b[39;00m \u001b[38;5;21;01mexc\u001b[39;00m\n\u001b[0;32m     33\u001b[0m DATETIME_FORMAT \u001b[38;5;241m=\u001b[39m \u001b[38;5;124m\"\u001b[39m\u001b[38;5;124m%\u001b[39m\u001b[38;5;124mY-\u001b[39m\u001b[38;5;124m%\u001b[39m\u001b[38;5;124mm-\u001b[39m\u001b[38;5;132;01m%d\u001b[39;00m\u001b[38;5;124m \u001b[39m\u001b[38;5;124m%\u001b[39m\u001b[38;5;124mH:\u001b[39m\u001b[38;5;124m%\u001b[39m\u001b[38;5;124mM:\u001b[39m\u001b[38;5;124m%\u001b[39m\u001b[38;5;124mS\u001b[39m\u001b[38;5;124m\"\u001b[39m\n\u001b[0;32m     36\u001b[0m \u001b[38;5;28;01mdef\u001b[39;00m \u001b[38;5;21m_get_dtype_string_alias\u001b[39m(dtype: pandas_engine\u001b[38;5;241m.\u001b[39mDataType) \u001b[38;5;241m-\u001b[39m\u001b[38;5;241m>\u001b[39m \u001b[38;5;28mstr\u001b[39m:\n",
      "\u001b[1;31mImportError\u001b[0m: IO and formatting requires 'pyyaml', 'black' and 'frictionless'to be installed.\nYou can install pandera together with the IO dependencies with:\npip install pandera[io]\n"
     ]
    }
   ],
   "source": [
    "    import pandera as pa\n",
    "    from pandera import io"
   ]
  },
  {
   "cell_type": "code",
   "execution_count": 6,
   "id": "2cf4ce0a",
   "metadata": {},
   "outputs": [
    {
     "ename": "NameError",
     "evalue": "name 'schema_cny_brl' is not defined",
     "output_type": "error",
     "traceback": [
      "\u001b[1;31m---------------------------------------------------------------------------\u001b[0m",
      "\u001b[1;31mNameError\u001b[0m                                 Traceback (most recent call last)",
      "Cell \u001b[1;32mIn[6], line 1\u001b[0m\n\u001b[1;32m----> 1\u001b[0m \u001b[43mschema_cny_brl\u001b[49m\n",
      "\u001b[1;31mNameError\u001b[0m: name 'schema_cny_brl' is not defined"
     ]
    }
   ],
   "source": [
    "schema_cny_brl"
   ]
  },
  {
   "cell_type": "code",
   "execution_count": 6,
   "id": "3e5a1870",
   "metadata": {},
   "outputs": [
    {
     "ename": "ImportError",
     "evalue": "IO and formatting requires 'pyyaml', 'black' and 'frictionless'to be installed.\nYou can install pandera together with the IO dependencies with:\npip install pandera[io]\n",
     "output_type": "error",
     "traceback": [
      "\u001b[1;31m---------------------------------------------------------------------------\u001b[0m",
      "\u001b[1;31mModuleNotFoundError\u001b[0m                       Traceback (most recent call last)",
      "File \u001b[1;32mc:\\Users\\BROliveiWa12\\AppData\\Local\\Programs\\Python\\Python312\\Lib\\site-packages\\pandera\\io\\pandas_io.py:21\u001b[0m\n\u001b[0;32m     20\u001b[0m \u001b[38;5;28;01mtry\u001b[39;00m:\n\u001b[1;32m---> 21\u001b[0m     \u001b[38;5;28;01mimport\u001b[39;00m \u001b[38;5;21;01mblack\u001b[39;00m\n\u001b[0;32m     22\u001b[0m     \u001b[38;5;28;01mimport\u001b[39;00m \u001b[38;5;21;01myaml\u001b[39;00m\n",
      "\u001b[1;31mModuleNotFoundError\u001b[0m: No module named 'black'",
      "\nThe above exception was the direct cause of the following exception:\n",
      "\u001b[1;31mImportError\u001b[0m                               Traceback (most recent call last)",
      "Cell \u001b[1;32mIn[6], line 1\u001b[0m\n\u001b[1;32m----> 1\u001b[0m \u001b[43mschema_cny_brl\u001b[49m\u001b[38;5;241;43m.\u001b[39;49m\u001b[43mto_yaml\u001b[49m\u001b[43m(\u001b[49m\u001b[43mos\u001b[49m\u001b[38;5;241;43m.\u001b[39;49m\u001b[43mpath\u001b[49m\u001b[38;5;241;43m.\u001b[39;49m\u001b[43mjoin\u001b[49m\u001b[43m(\u001b[49m\u001b[43mPATHS\u001b[49m\u001b[43m[\u001b[49m\u001b[38;5;124;43m\"\u001b[39;49m\u001b[38;5;124;43mMETRICS\u001b[39;49m\u001b[38;5;124;43m\"\u001b[39;49m\u001b[43m]\u001b[49m\u001b[43m,\u001b[49m\u001b[43m \u001b[49m\u001b[38;5;124;43m\"\u001b[39;49m\u001b[38;5;124;43mschemas\u001b[39;49m\u001b[38;5;124;43m\"\u001b[39;49m\u001b[43m,\u001b[49m\u001b[43m \u001b[49m\u001b[38;5;124;43m\"\u001b[39;49m\u001b[38;5;124;43mcny_brl.yaml\u001b[39;49m\u001b[38;5;124;43m\"\u001b[39;49m\u001b[43m)\u001b[49m\u001b[43m)\u001b[49m\n",
      "File \u001b[1;32mc:\\Users\\BROliveiWa12\\AppData\\Local\\Programs\\Python\\Python312\\Lib\\site-packages\\pandera\\api\\dataframe\\container.py:1328\u001b[0m, in \u001b[0;36mDataFrameSchema.to_yaml\u001b[1;34m(self, stream)\u001b[0m\n\u001b[0;32m   1322\u001b[0m \u001b[38;5;250m\u001b[39m\u001b[38;5;124;03m\"\"\"Write DataFrameSchema to yaml file.\u001b[39;00m\n\u001b[0;32m   1323\u001b[0m \n\u001b[0;32m   1324\u001b[0m \u001b[38;5;124;03m:param stream: file stream to write to. If None, dumps to string.\u001b[39;00m\n\u001b[0;32m   1325\u001b[0m \u001b[38;5;124;03m:returns: yaml string if stream is None, otherwise returns None.\u001b[39;00m\n\u001b[0;32m   1326\u001b[0m \u001b[38;5;124;03m\"\"\"\u001b[39;00m\n\u001b[0;32m   1327\u001b[0m \u001b[38;5;66;03m# pylint: disable=import-outside-toplevel,cyclic-import,redefined-outer-name\u001b[39;00m\n\u001b[1;32m-> 1328\u001b[0m \u001b[38;5;28;01mimport\u001b[39;00m \u001b[38;5;21;01mpandera\u001b[39;00m\u001b[38;5;21;01m.\u001b[39;00m\u001b[38;5;21;01mio\u001b[39;00m\n\u001b[0;32m   1330\u001b[0m \u001b[38;5;28;01mreturn\u001b[39;00m pandera\u001b[38;5;241m.\u001b[39mio\u001b[38;5;241m.\u001b[39mto_yaml(\u001b[38;5;28mself\u001b[39m, stream\u001b[38;5;241m=\u001b[39mstream)\n",
      "File \u001b[1;32mc:\\Users\\BROliveiWa12\\AppData\\Local\\Programs\\Python\\Python312\\Lib\\site-packages\\pandera\\io\\__init__.py:3\u001b[0m\n\u001b[0;32m      1\u001b[0m \u001b[38;5;124;03m\"\"\"Subpackage for serializing/deserializing pandera schemas to other formats.\"\"\"\u001b[39;00m\n\u001b[1;32m----> 3\u001b[0m \u001b[38;5;28;01mfrom\u001b[39;00m \u001b[38;5;21;01mpandera\u001b[39;00m\u001b[38;5;21;01m.\u001b[39;00m\u001b[38;5;21;01mio\u001b[39;00m\u001b[38;5;21;01m.\u001b[39;00m\u001b[38;5;21;01mpandas_io\u001b[39;00m \u001b[38;5;28;01mimport\u001b[39;00m (\n\u001b[0;32m      4\u001b[0m     _deserialize_check_stats,\n\u001b[0;32m      5\u001b[0m     _deserialize_component_stats,\n\u001b[0;32m      6\u001b[0m     _format_checks,\n\u001b[0;32m      7\u001b[0m     _format_index,\n\u001b[0;32m      8\u001b[0m     _format_script,\n\u001b[0;32m      9\u001b[0m     _get_dtype_string_alias,\n\u001b[0;32m     10\u001b[0m     _serialize_check_stats,\n\u001b[0;32m     11\u001b[0m     _serialize_component_stats,\n\u001b[0;32m     12\u001b[0m     _serialize_dataframe_stats,\n\u001b[0;32m     13\u001b[0m     deserialize_schema,\n\u001b[0;32m     14\u001b[0m     from_frictionless_schema,\n\u001b[0;32m     15\u001b[0m     from_json,\n\u001b[0;32m     16\u001b[0m     from_yaml,\n\u001b[0;32m     17\u001b[0m     serialize_schema,\n\u001b[0;32m     18\u001b[0m     to_json,\n\u001b[0;32m     19\u001b[0m     to_script,\n\u001b[0;32m     20\u001b[0m     to_yaml,\n\u001b[0;32m     21\u001b[0m )\n",
      "File \u001b[1;32mc:\\Users\\BROliveiWa12\\AppData\\Local\\Programs\\Python\\Python312\\Lib\\site-packages\\pandera\\io\\pandas_io.py:25\u001b[0m\n\u001b[0;32m     23\u001b[0m     \u001b[38;5;28;01mfrom\u001b[39;00m \u001b[38;5;21;01mfrictionless\u001b[39;00m \u001b[38;5;28;01mimport\u001b[39;00m Schema \u001b[38;5;28;01mas\u001b[39;00m FrictionlessSchema\n\u001b[0;32m     24\u001b[0m \u001b[38;5;28;01mexcept\u001b[39;00m \u001b[38;5;167;01mImportError\u001b[39;00m \u001b[38;5;28;01mas\u001b[39;00m exc:  \u001b[38;5;66;03m# pragma: no cover\u001b[39;00m\n\u001b[1;32m---> 25\u001b[0m     \u001b[38;5;28;01mraise\u001b[39;00m \u001b[38;5;167;01mImportError\u001b[39;00m(\n\u001b[0;32m     26\u001b[0m         \u001b[38;5;124m\"\u001b[39m\u001b[38;5;124mIO and formatting requires \u001b[39m\u001b[38;5;124m'\u001b[39m\u001b[38;5;124mpyyaml\u001b[39m\u001b[38;5;124m'\u001b[39m\u001b[38;5;124m, \u001b[39m\u001b[38;5;124m'\u001b[39m\u001b[38;5;124mblack\u001b[39m\u001b[38;5;124m'\u001b[39m\u001b[38;5;124m and \u001b[39m\u001b[38;5;124m'\u001b[39m\u001b[38;5;124mfrictionless\u001b[39m\u001b[38;5;124m'\u001b[39m\u001b[38;5;124m\"\u001b[39m\n\u001b[0;32m     27\u001b[0m         \u001b[38;5;124m\"\u001b[39m\u001b[38;5;124mto be installed.\u001b[39m\u001b[38;5;130;01m\\n\u001b[39;00m\u001b[38;5;124m\"\u001b[39m\n\u001b[0;32m     28\u001b[0m         \u001b[38;5;124m\"\u001b[39m\u001b[38;5;124mYou can install pandera together with the IO dependencies with:\u001b[39m\u001b[38;5;130;01m\\n\u001b[39;00m\u001b[38;5;124m\"\u001b[39m\n\u001b[0;32m     29\u001b[0m         \u001b[38;5;124m\"\u001b[39m\u001b[38;5;124mpip install pandera[io]\u001b[39m\u001b[38;5;130;01m\\n\u001b[39;00m\u001b[38;5;124m\"\u001b[39m\n\u001b[0;32m     30\u001b[0m     ) \u001b[38;5;28;01mfrom\u001b[39;00m \u001b[38;5;21;01mexc\u001b[39;00m\n\u001b[0;32m     33\u001b[0m DATETIME_FORMAT \u001b[38;5;241m=\u001b[39m \u001b[38;5;124m\"\u001b[39m\u001b[38;5;124m%\u001b[39m\u001b[38;5;124mY-\u001b[39m\u001b[38;5;124m%\u001b[39m\u001b[38;5;124mm-\u001b[39m\u001b[38;5;132;01m%d\u001b[39;00m\u001b[38;5;124m \u001b[39m\u001b[38;5;124m%\u001b[39m\u001b[38;5;124mH:\u001b[39m\u001b[38;5;124m%\u001b[39m\u001b[38;5;124mM:\u001b[39m\u001b[38;5;124m%\u001b[39m\u001b[38;5;124mS\u001b[39m\u001b[38;5;124m\"\u001b[39m\n\u001b[0;32m     36\u001b[0m \u001b[38;5;28;01mdef\u001b[39;00m \u001b[38;5;21m_get_dtype_string_alias\u001b[39m(dtype: pandas_engine\u001b[38;5;241m.\u001b[39mDataType) \u001b[38;5;241m-\u001b[39m\u001b[38;5;241m>\u001b[39m \u001b[38;5;28mstr\u001b[39m:\n",
      "\u001b[1;31mImportError\u001b[0m: IO and formatting requires 'pyyaml', 'black' and 'frictionless'to be installed.\nYou can install pandera together with the IO dependencies with:\npip install pandera[io]\n"
     ]
    }
   ],
   "source": [
    "schema_cny_brl.to_yaml(os.path.join(PATHS[\"METRICS\"], \"schemas\", \"cny_brl.yaml\"))"
   ]
  },
  {
   "cell_type": "code",
   "execution_count": 2,
   "id": "0b16b07c",
   "metadata": {},
   "outputs": [
    {
     "name": "stdout",
     "output_type": "stream",
     "text": [
      "Note: you may need to restart the kernel to use updated packages.\n"
     ]
    },
    {
     "name": "stderr",
     "output_type": "stream",
     "text": [
      "ERROR: Invalid requirement: \"'pandera[io]\": Expected package name at the start of dependency specifier\n",
      "    'pandera[io]\n",
      "    ^\n"
     ]
    }
   ],
   "source": [
    "pip install 'pandera[io]"
   ]
  },
  {
   "cell_type": "code",
   "execution_count": null,
   "id": "9bf85128",
   "metadata": {},
   "outputs": [],
   "source": [
    "schema_cny_brl.to"
   ]
  },
  {
   "cell_type": "code",
   "execution_count": null,
   "id": "eb54127e",
   "metadata": {},
   "outputs": [],
   "source": []
  },
  {
   "cell_type": "code",
   "execution_count": null,
   "id": "3903daa0",
   "metadata": {},
   "outputs": [],
   "source": [
    "inicial = dt.datetime.strptime(DATA_INICIAL, '%d/%m/%Y')\n",
    "final = dt.datetime.strptime(DATA_FINAL, '%d/%m/%Y')"
   ]
  },
  {
   "cell_type": "code",
   "execution_count": null,
   "id": "64996dbe",
   "metadata": {},
   "outputs": [],
   "source": [
    "schema_ars_brl = pa.DataFrameSchema(\n",
    "    name=\"ARS_BRL\",\n",
    "    description=\"Tabela contendo a série histórica da taxa de câmbio diária entre o Peso Argentino (ARS) e o Real Brasileiro (BRL), disponibilizada pelo Banco Central do Brasil (BACEN).\",\n",
    "    columns={\n",
    "        \"data\": pa.Column(\n",
    "            pa.DateTime,\n",
    "            nullable=False,\n",
    "            unique=True,\n",
    "            checks=[pa.Check.in_range(inicial, final)],\n",
    "            description=\"Data da cotação da taxa de câmbio ARS/BRL. Formato YYYY-MM-DD.\",\n",
    "        ),\n",
    "        \"ars_brl\": pa.Column(\n",
    "            pa.Float,\n",
    "            nullable=False,\n",
    "            checks=pa.Check.greater_than(0),\n",
    "            description=\"Valor da taxa de câmbio do Peso Argentino (ARS) para o Real (BRL).\",\n",
    "        ),\n",
    "    },\n",
    ")"
   ]
  },
  {
   "cell_type": "code",
   "execution_count": null,
   "id": "35dc4cc3",
   "metadata": {},
   "outputs": [],
   "source": [
    "schema_ars_brl.validate(pd.read_parquet(path))"
   ]
  },
  {
   "cell_type": "code",
   "execution_count": null,
   "id": "e5df7d35",
   "metadata": {},
   "outputs": [],
   "source": []
  }
 ],
 "metadata": {
  "kernelspec": {
   "display_name": "Python 3",
   "language": "python",
   "name": "python3"
  },
  "language_info": {
   "codemirror_mode": {
    "name": "ipython",
    "version": 3
   },
   "file_extension": ".py",
   "mimetype": "text/x-python",
   "name": "python",
   "nbconvert_exporter": "python",
   "pygments_lexer": "ipython3",
   "version": "3.12.6"
  }
 },
 "nbformat": 4,
 "nbformat_minor": 5
}
